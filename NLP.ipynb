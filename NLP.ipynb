{
  "nbformat": 4,
  "nbformat_minor": 0,
  "metadata": {
    "colab": {
      "provenance": [],
      "toc_visible": true,
      "authorship_tag": "ABX9TyMok+rdKXky6p72PSRarMPF",
      "include_colab_link": true
    },
    "kernelspec": {
      "name": "python3",
      "display_name": "Python 3"
    },
    "language_info": {
      "name": "python"
    }
  },
  "cells": [
    {
      "cell_type": "markdown",
      "metadata": {
        "id": "view-in-github",
        "colab_type": "text"
      },
      "source": [
        "<a href=\"https://colab.research.google.com/github/Hawar-Dzaee/Language_Models/blob/main/NLP.ipynb\" target=\"_parent\"><img src=\"https://colab.research.google.com/assets/colab-badge.svg\" alt=\"Open In Colab\"/></a>"
      ]
    },
    {
      "cell_type": "markdown",
      "source": [
        "# 1.0  Dataset\n",
        "Natural Language Processing with Disaster Tweets\\\n",
        "Source  : kaggle https://www.kaggle.com/c/nlp-getting-started/data \\\n",
        "Description: a collection of Twitter messages (tweets) that have been categorized into two main groups: tweets related to disasters and tweets unrelated to disasters."
      ],
      "metadata": {
        "id": "4Q0iGyrMGX0Y"
      }
    },
    {
      "cell_type": "markdown",
      "source": [
        "### 1.1 Download The Data"
      ],
      "metadata": {
        "id": "6afBBBi3fgLC"
      }
    },
    {
      "cell_type": "code",
      "execution_count": null,
      "metadata": {
        "id": "oKv4uMWRiosW",
        "colab": {
          "base_uri": "https://localhost:8080/"
        },
        "outputId": "4538ff6a-06f0-4ea1-ce41-a0f659894e47"
      },
      "outputs": [
        {
          "output_type": "stream",
          "name": "stdout",
          "text": [
            "--2023-09-30 12:54:25--  https://storage.googleapis.com/ztm_tf_course/nlp_getting_started.zip\n",
            "Resolving storage.googleapis.com (storage.googleapis.com)... 142.250.145.207, 74.125.128.207, 173.194.69.207, ...\n",
            "Connecting to storage.googleapis.com (storage.googleapis.com)|142.250.145.207|:443... connected.\n",
            "HTTP request sent, awaiting response... 200 OK\n",
            "Length: 607343 (593K) [application/zip]\n",
            "Saving to: ‘nlp_getting_started.zip’\n",
            "\n",
            "nlp_getting_started 100%[===================>] 593.11K  1.29MB/s    in 0.4s    \n",
            "\n",
            "2023-09-30 12:54:25 (1.29 MB/s) - ‘nlp_getting_started.zip’ saved [607343/607343]\n",
            "\n"
          ]
        }
      ],
      "source": [
        "!wget https://storage.googleapis.com/ztm_tf_course/nlp_getting_started.zip"
      ]
    },
    {
      "cell_type": "markdown",
      "source": [
        "### 1.2 Unzip The Data"
      ],
      "metadata": {
        "id": "3MZ2wJTOflHa"
      }
    },
    {
      "cell_type": "code",
      "source": [
        "import zipfile\n",
        "with zipfile.ZipFile('/content/nlp_getting_started.zip') as zip_ref:\n",
        "  zip_ref.extractall()"
      ],
      "metadata": {
        "id": "-OwsyZ66IwXC"
      },
      "execution_count": null,
      "outputs": []
    },
    {
      "cell_type": "markdown",
      "source": [
        "# 2.0  Data inspection and Data wrangling"
      ],
      "metadata": {
        "id": "2hLfmJisfsTh"
      }
    },
    {
      "cell_type": "code",
      "source": [
        "import numpy as np\n",
        "import pandas as pd\n",
        "train_df = pd.read_csv('/content/train.csv')\n",
        "test_df  = pd.read_csv('/content/test.csv')"
      ],
      "metadata": {
        "id": "kKZBml9K9Lsw"
      },
      "execution_count": null,
      "outputs": []
    },
    {
      "cell_type": "code",
      "source": [
        "train_df.head()"
      ],
      "metadata": {
        "colab": {
          "base_uri": "https://localhost:8080/",
          "height": 206
        },
        "id": "LpRy1x3wJI-X",
        "outputId": "a23ff90a-8cba-4237-9f79-a8fd8cb539f4"
      },
      "execution_count": null,
      "outputs": [
        {
          "output_type": "execute_result",
          "data": {
            "text/plain": [
              "   id keyword location                                               text  \\\n",
              "0   1     NaN      NaN  Our Deeds are the Reason of this #earthquake M...   \n",
              "1   4     NaN      NaN             Forest fire near La Ronge Sask. Canada   \n",
              "2   5     NaN      NaN  All residents asked to 'shelter in place' are ...   \n",
              "3   6     NaN      NaN  13,000 people receive #wildfires evacuation or...   \n",
              "4   7     NaN      NaN  Just got sent this photo from Ruby #Alaska as ...   \n",
              "\n",
              "   target  \n",
              "0       1  \n",
              "1       1  \n",
              "2       1  \n",
              "3       1  \n",
              "4       1  "
            ],
            "text/html": [
              "\n",
              "  <div id=\"df-fdcec3d3-07b7-489b-b93e-f31c3a9931db\" class=\"colab-df-container\">\n",
              "    <div>\n",
              "<style scoped>\n",
              "    .dataframe tbody tr th:only-of-type {\n",
              "        vertical-align: middle;\n",
              "    }\n",
              "\n",
              "    .dataframe tbody tr th {\n",
              "        vertical-align: top;\n",
              "    }\n",
              "\n",
              "    .dataframe thead th {\n",
              "        text-align: right;\n",
              "    }\n",
              "</style>\n",
              "<table border=\"1\" class=\"dataframe\">\n",
              "  <thead>\n",
              "    <tr style=\"text-align: right;\">\n",
              "      <th></th>\n",
              "      <th>id</th>\n",
              "      <th>keyword</th>\n",
              "      <th>location</th>\n",
              "      <th>text</th>\n",
              "      <th>target</th>\n",
              "    </tr>\n",
              "  </thead>\n",
              "  <tbody>\n",
              "    <tr>\n",
              "      <th>0</th>\n",
              "      <td>1</td>\n",
              "      <td>NaN</td>\n",
              "      <td>NaN</td>\n",
              "      <td>Our Deeds are the Reason of this #earthquake M...</td>\n",
              "      <td>1</td>\n",
              "    </tr>\n",
              "    <tr>\n",
              "      <th>1</th>\n",
              "      <td>4</td>\n",
              "      <td>NaN</td>\n",
              "      <td>NaN</td>\n",
              "      <td>Forest fire near La Ronge Sask. Canada</td>\n",
              "      <td>1</td>\n",
              "    </tr>\n",
              "    <tr>\n",
              "      <th>2</th>\n",
              "      <td>5</td>\n",
              "      <td>NaN</td>\n",
              "      <td>NaN</td>\n",
              "      <td>All residents asked to 'shelter in place' are ...</td>\n",
              "      <td>1</td>\n",
              "    </tr>\n",
              "    <tr>\n",
              "      <th>3</th>\n",
              "      <td>6</td>\n",
              "      <td>NaN</td>\n",
              "      <td>NaN</td>\n",
              "      <td>13,000 people receive #wildfires evacuation or...</td>\n",
              "      <td>1</td>\n",
              "    </tr>\n",
              "    <tr>\n",
              "      <th>4</th>\n",
              "      <td>7</td>\n",
              "      <td>NaN</td>\n",
              "      <td>NaN</td>\n",
              "      <td>Just got sent this photo from Ruby #Alaska as ...</td>\n",
              "      <td>1</td>\n",
              "    </tr>\n",
              "  </tbody>\n",
              "</table>\n",
              "</div>\n",
              "    <div class=\"colab-df-buttons\">\n",
              "\n",
              "  <div class=\"colab-df-container\">\n",
              "    <button class=\"colab-df-convert\" onclick=\"convertToInteractive('df-fdcec3d3-07b7-489b-b93e-f31c3a9931db')\"\n",
              "            title=\"Convert this dataframe to an interactive table.\"\n",
              "            style=\"display:none;\">\n",
              "\n",
              "  <svg xmlns=\"http://www.w3.org/2000/svg\" height=\"24px\" viewBox=\"0 -960 960 960\">\n",
              "    <path d=\"M120-120v-720h720v720H120Zm60-500h600v-160H180v160Zm220 220h160v-160H400v160Zm0 220h160v-160H400v160ZM180-400h160v-160H180v160Zm440 0h160v-160H620v160ZM180-180h160v-160H180v160Zm440 0h160v-160H620v160Z\"/>\n",
              "  </svg>\n",
              "    </button>\n",
              "\n",
              "  <style>\n",
              "    .colab-df-container {\n",
              "      display:flex;\n",
              "      gap: 12px;\n",
              "    }\n",
              "\n",
              "    .colab-df-convert {\n",
              "      background-color: #E8F0FE;\n",
              "      border: none;\n",
              "      border-radius: 50%;\n",
              "      cursor: pointer;\n",
              "      display: none;\n",
              "      fill: #1967D2;\n",
              "      height: 32px;\n",
              "      padding: 0 0 0 0;\n",
              "      width: 32px;\n",
              "    }\n",
              "\n",
              "    .colab-df-convert:hover {\n",
              "      background-color: #E2EBFA;\n",
              "      box-shadow: 0px 1px 2px rgba(60, 64, 67, 0.3), 0px 1px 3px 1px rgba(60, 64, 67, 0.15);\n",
              "      fill: #174EA6;\n",
              "    }\n",
              "\n",
              "    .colab-df-buttons div {\n",
              "      margin-bottom: 4px;\n",
              "    }\n",
              "\n",
              "    [theme=dark] .colab-df-convert {\n",
              "      background-color: #3B4455;\n",
              "      fill: #D2E3FC;\n",
              "    }\n",
              "\n",
              "    [theme=dark] .colab-df-convert:hover {\n",
              "      background-color: #434B5C;\n",
              "      box-shadow: 0px 1px 3px 1px rgba(0, 0, 0, 0.15);\n",
              "      filter: drop-shadow(0px 1px 2px rgba(0, 0, 0, 0.3));\n",
              "      fill: #FFFFFF;\n",
              "    }\n",
              "  </style>\n",
              "\n",
              "    <script>\n",
              "      const buttonEl =\n",
              "        document.querySelector('#df-fdcec3d3-07b7-489b-b93e-f31c3a9931db button.colab-df-convert');\n",
              "      buttonEl.style.display =\n",
              "        google.colab.kernel.accessAllowed ? 'block' : 'none';\n",
              "\n",
              "      async function convertToInteractive(key) {\n",
              "        const element = document.querySelector('#df-fdcec3d3-07b7-489b-b93e-f31c3a9931db');\n",
              "        const dataTable =\n",
              "          await google.colab.kernel.invokeFunction('convertToInteractive',\n",
              "                                                    [key], {});\n",
              "        if (!dataTable) return;\n",
              "\n",
              "        const docLinkHtml = 'Like what you see? Visit the ' +\n",
              "          '<a target=\"_blank\" href=https://colab.research.google.com/notebooks/data_table.ipynb>data table notebook</a>'\n",
              "          + ' to learn more about interactive tables.';\n",
              "        element.innerHTML = '';\n",
              "        dataTable['output_type'] = 'display_data';\n",
              "        await google.colab.output.renderOutput(dataTable, element);\n",
              "        const docLink = document.createElement('div');\n",
              "        docLink.innerHTML = docLinkHtml;\n",
              "        element.appendChild(docLink);\n",
              "      }\n",
              "    </script>\n",
              "  </div>\n",
              "\n",
              "\n",
              "<div id=\"df-b7dfe47d-b94a-468a-b3b5-19f13666b438\">\n",
              "  <button class=\"colab-df-quickchart\" onclick=\"quickchart('df-b7dfe47d-b94a-468a-b3b5-19f13666b438')\"\n",
              "            title=\"Suggest charts.\"\n",
              "            style=\"display:none;\">\n",
              "\n",
              "<svg xmlns=\"http://www.w3.org/2000/svg\" height=\"24px\"viewBox=\"0 0 24 24\"\n",
              "     width=\"24px\">\n",
              "    <g>\n",
              "        <path d=\"M19 3H5c-1.1 0-2 .9-2 2v14c0 1.1.9 2 2 2h14c1.1 0 2-.9 2-2V5c0-1.1-.9-2-2-2zM9 17H7v-7h2v7zm4 0h-2V7h2v10zm4 0h-2v-4h2v4z\"/>\n",
              "    </g>\n",
              "</svg>\n",
              "  </button>\n",
              "\n",
              "<style>\n",
              "  .colab-df-quickchart {\n",
              "      --bg-color: #E8F0FE;\n",
              "      --fill-color: #1967D2;\n",
              "      --hover-bg-color: #E2EBFA;\n",
              "      --hover-fill-color: #174EA6;\n",
              "      --disabled-fill-color: #AAA;\n",
              "      --disabled-bg-color: #DDD;\n",
              "  }\n",
              "\n",
              "  [theme=dark] .colab-df-quickchart {\n",
              "      --bg-color: #3B4455;\n",
              "      --fill-color: #D2E3FC;\n",
              "      --hover-bg-color: #434B5C;\n",
              "      --hover-fill-color: #FFFFFF;\n",
              "      --disabled-bg-color: #3B4455;\n",
              "      --disabled-fill-color: #666;\n",
              "  }\n",
              "\n",
              "  .colab-df-quickchart {\n",
              "    background-color: var(--bg-color);\n",
              "    border: none;\n",
              "    border-radius: 50%;\n",
              "    cursor: pointer;\n",
              "    display: none;\n",
              "    fill: var(--fill-color);\n",
              "    height: 32px;\n",
              "    padding: 0;\n",
              "    width: 32px;\n",
              "  }\n",
              "\n",
              "  .colab-df-quickchart:hover {\n",
              "    background-color: var(--hover-bg-color);\n",
              "    box-shadow: 0 1px 2px rgba(60, 64, 67, 0.3), 0 1px 3px 1px rgba(60, 64, 67, 0.15);\n",
              "    fill: var(--button-hover-fill-color);\n",
              "  }\n",
              "\n",
              "  .colab-df-quickchart-complete:disabled,\n",
              "  .colab-df-quickchart-complete:disabled:hover {\n",
              "    background-color: var(--disabled-bg-color);\n",
              "    fill: var(--disabled-fill-color);\n",
              "    box-shadow: none;\n",
              "  }\n",
              "\n",
              "  .colab-df-spinner {\n",
              "    border: 2px solid var(--fill-color);\n",
              "    border-color: transparent;\n",
              "    border-bottom-color: var(--fill-color);\n",
              "    animation:\n",
              "      spin 1s steps(1) infinite;\n",
              "  }\n",
              "\n",
              "  @keyframes spin {\n",
              "    0% {\n",
              "      border-color: transparent;\n",
              "      border-bottom-color: var(--fill-color);\n",
              "      border-left-color: var(--fill-color);\n",
              "    }\n",
              "    20% {\n",
              "      border-color: transparent;\n",
              "      border-left-color: var(--fill-color);\n",
              "      border-top-color: var(--fill-color);\n",
              "    }\n",
              "    30% {\n",
              "      border-color: transparent;\n",
              "      border-left-color: var(--fill-color);\n",
              "      border-top-color: var(--fill-color);\n",
              "      border-right-color: var(--fill-color);\n",
              "    }\n",
              "    40% {\n",
              "      border-color: transparent;\n",
              "      border-right-color: var(--fill-color);\n",
              "      border-top-color: var(--fill-color);\n",
              "    }\n",
              "    60% {\n",
              "      border-color: transparent;\n",
              "      border-right-color: var(--fill-color);\n",
              "    }\n",
              "    80% {\n",
              "      border-color: transparent;\n",
              "      border-right-color: var(--fill-color);\n",
              "      border-bottom-color: var(--fill-color);\n",
              "    }\n",
              "    90% {\n",
              "      border-color: transparent;\n",
              "      border-bottom-color: var(--fill-color);\n",
              "    }\n",
              "  }\n",
              "</style>\n",
              "\n",
              "  <script>\n",
              "    async function quickchart(key) {\n",
              "      const quickchartButtonEl =\n",
              "        document.querySelector('#' + key + ' button');\n",
              "      quickchartButtonEl.disabled = true;  // To prevent multiple clicks.\n",
              "      quickchartButtonEl.classList.add('colab-df-spinner');\n",
              "      try {\n",
              "        const charts = await google.colab.kernel.invokeFunction(\n",
              "            'suggestCharts', [key], {});\n",
              "      } catch (error) {\n",
              "        console.error('Error during call to suggestCharts:', error);\n",
              "      }\n",
              "      quickchartButtonEl.classList.remove('colab-df-spinner');\n",
              "      quickchartButtonEl.classList.add('colab-df-quickchart-complete');\n",
              "    }\n",
              "    (() => {\n",
              "      let quickchartButtonEl =\n",
              "        document.querySelector('#df-b7dfe47d-b94a-468a-b3b5-19f13666b438 button');\n",
              "      quickchartButtonEl.style.display =\n",
              "        google.colab.kernel.accessAllowed ? 'block' : 'none';\n",
              "    })();\n",
              "  </script>\n",
              "</div>\n",
              "    </div>\n",
              "  </div>\n"
            ]
          },
          "metadata": {},
          "execution_count": 4
        }
      ]
    },
    {
      "cell_type": "markdown",
      "source": [
        "### 2.1 shuffle the data"
      ],
      "metadata": {
        "id": "k6xJPKYsKhaP"
      }
    },
    {
      "cell_type": "code",
      "source": [
        "train_df_shuffled = train_df.sample(frac =1,random_state=0)\n",
        "train_df_shuffled.head()"
      ],
      "metadata": {
        "colab": {
          "base_uri": "https://localhost:8080/",
          "height": 206
        },
        "id": "yI9B9WENJQ7x",
        "outputId": "9024ae6d-eb75-4749-c2f1-4982e48d3a94"
      },
      "execution_count": null,
      "outputs": [
        {
          "output_type": "execute_result",
          "data": {
            "text/plain": [
              "        id         keyword                   location  \\\n",
              "311    454      armageddon              Wrigley Field   \n",
              "4970  7086        meltdown            Two Up Two Down   \n",
              "527    762       avalanche  Score Team Goals Buying @   \n",
              "6362  9094  suicide%20bomb                   Roadside   \n",
              "800   1160          blight        Laventillemoorings    \n",
              "\n",
              "                                                   text  target  \n",
              "311   @KatieKatCubs you already know how this shit g...       0  \n",
              "4970  @LeMaireLee @danharmon People Near Meltdown Co...       0  \n",
              "527   1-6 TIX Calgary Flames vs COL Avalanche Presea...       0  \n",
              "6362  If you ever think you running out of choices i...       0  \n",
              "800   If you dotish to blight your car go right ahea...       0  "
            ],
            "text/html": [
              "\n",
              "  <div id=\"df-7a4b560f-a4bc-45f5-93ed-78d63579f175\" class=\"colab-df-container\">\n",
              "    <div>\n",
              "<style scoped>\n",
              "    .dataframe tbody tr th:only-of-type {\n",
              "        vertical-align: middle;\n",
              "    }\n",
              "\n",
              "    .dataframe tbody tr th {\n",
              "        vertical-align: top;\n",
              "    }\n",
              "\n",
              "    .dataframe thead th {\n",
              "        text-align: right;\n",
              "    }\n",
              "</style>\n",
              "<table border=\"1\" class=\"dataframe\">\n",
              "  <thead>\n",
              "    <tr style=\"text-align: right;\">\n",
              "      <th></th>\n",
              "      <th>id</th>\n",
              "      <th>keyword</th>\n",
              "      <th>location</th>\n",
              "      <th>text</th>\n",
              "      <th>target</th>\n",
              "    </tr>\n",
              "  </thead>\n",
              "  <tbody>\n",
              "    <tr>\n",
              "      <th>311</th>\n",
              "      <td>454</td>\n",
              "      <td>armageddon</td>\n",
              "      <td>Wrigley Field</td>\n",
              "      <td>@KatieKatCubs you already know how this shit g...</td>\n",
              "      <td>0</td>\n",
              "    </tr>\n",
              "    <tr>\n",
              "      <th>4970</th>\n",
              "      <td>7086</td>\n",
              "      <td>meltdown</td>\n",
              "      <td>Two Up Two Down</td>\n",
              "      <td>@LeMaireLee @danharmon People Near Meltdown Co...</td>\n",
              "      <td>0</td>\n",
              "    </tr>\n",
              "    <tr>\n",
              "      <th>527</th>\n",
              "      <td>762</td>\n",
              "      <td>avalanche</td>\n",
              "      <td>Score Team Goals Buying @</td>\n",
              "      <td>1-6 TIX Calgary Flames vs COL Avalanche Presea...</td>\n",
              "      <td>0</td>\n",
              "    </tr>\n",
              "    <tr>\n",
              "      <th>6362</th>\n",
              "      <td>9094</td>\n",
              "      <td>suicide%20bomb</td>\n",
              "      <td>Roadside</td>\n",
              "      <td>If you ever think you running out of choices i...</td>\n",
              "      <td>0</td>\n",
              "    </tr>\n",
              "    <tr>\n",
              "      <th>800</th>\n",
              "      <td>1160</td>\n",
              "      <td>blight</td>\n",
              "      <td>Laventillemoorings</td>\n",
              "      <td>If you dotish to blight your car go right ahea...</td>\n",
              "      <td>0</td>\n",
              "    </tr>\n",
              "  </tbody>\n",
              "</table>\n",
              "</div>\n",
              "    <div class=\"colab-df-buttons\">\n",
              "\n",
              "  <div class=\"colab-df-container\">\n",
              "    <button class=\"colab-df-convert\" onclick=\"convertToInteractive('df-7a4b560f-a4bc-45f5-93ed-78d63579f175')\"\n",
              "            title=\"Convert this dataframe to an interactive table.\"\n",
              "            style=\"display:none;\">\n",
              "\n",
              "  <svg xmlns=\"http://www.w3.org/2000/svg\" height=\"24px\" viewBox=\"0 -960 960 960\">\n",
              "    <path d=\"M120-120v-720h720v720H120Zm60-500h600v-160H180v160Zm220 220h160v-160H400v160Zm0 220h160v-160H400v160ZM180-400h160v-160H180v160Zm440 0h160v-160H620v160ZM180-180h160v-160H180v160Zm440 0h160v-160H620v160Z\"/>\n",
              "  </svg>\n",
              "    </button>\n",
              "\n",
              "  <style>\n",
              "    .colab-df-container {\n",
              "      display:flex;\n",
              "      gap: 12px;\n",
              "    }\n",
              "\n",
              "    .colab-df-convert {\n",
              "      background-color: #E8F0FE;\n",
              "      border: none;\n",
              "      border-radius: 50%;\n",
              "      cursor: pointer;\n",
              "      display: none;\n",
              "      fill: #1967D2;\n",
              "      height: 32px;\n",
              "      padding: 0 0 0 0;\n",
              "      width: 32px;\n",
              "    }\n",
              "\n",
              "    .colab-df-convert:hover {\n",
              "      background-color: #E2EBFA;\n",
              "      box-shadow: 0px 1px 2px rgba(60, 64, 67, 0.3), 0px 1px 3px 1px rgba(60, 64, 67, 0.15);\n",
              "      fill: #174EA6;\n",
              "    }\n",
              "\n",
              "    .colab-df-buttons div {\n",
              "      margin-bottom: 4px;\n",
              "    }\n",
              "\n",
              "    [theme=dark] .colab-df-convert {\n",
              "      background-color: #3B4455;\n",
              "      fill: #D2E3FC;\n",
              "    }\n",
              "\n",
              "    [theme=dark] .colab-df-convert:hover {\n",
              "      background-color: #434B5C;\n",
              "      box-shadow: 0px 1px 3px 1px rgba(0, 0, 0, 0.15);\n",
              "      filter: drop-shadow(0px 1px 2px rgba(0, 0, 0, 0.3));\n",
              "      fill: #FFFFFF;\n",
              "    }\n",
              "  </style>\n",
              "\n",
              "    <script>\n",
              "      const buttonEl =\n",
              "        document.querySelector('#df-7a4b560f-a4bc-45f5-93ed-78d63579f175 button.colab-df-convert');\n",
              "      buttonEl.style.display =\n",
              "        google.colab.kernel.accessAllowed ? 'block' : 'none';\n",
              "\n",
              "      async function convertToInteractive(key) {\n",
              "        const element = document.querySelector('#df-7a4b560f-a4bc-45f5-93ed-78d63579f175');\n",
              "        const dataTable =\n",
              "          await google.colab.kernel.invokeFunction('convertToInteractive',\n",
              "                                                    [key], {});\n",
              "        if (!dataTable) return;\n",
              "\n",
              "        const docLinkHtml = 'Like what you see? Visit the ' +\n",
              "          '<a target=\"_blank\" href=https://colab.research.google.com/notebooks/data_table.ipynb>data table notebook</a>'\n",
              "          + ' to learn more about interactive tables.';\n",
              "        element.innerHTML = '';\n",
              "        dataTable['output_type'] = 'display_data';\n",
              "        await google.colab.output.renderOutput(dataTable, element);\n",
              "        const docLink = document.createElement('div');\n",
              "        docLink.innerHTML = docLinkHtml;\n",
              "        element.appendChild(docLink);\n",
              "      }\n",
              "    </script>\n",
              "  </div>\n",
              "\n",
              "\n",
              "<div id=\"df-78d444c8-6b1e-490c-a8bf-cb4d013c9c76\">\n",
              "  <button class=\"colab-df-quickchart\" onclick=\"quickchart('df-78d444c8-6b1e-490c-a8bf-cb4d013c9c76')\"\n",
              "            title=\"Suggest charts.\"\n",
              "            style=\"display:none;\">\n",
              "\n",
              "<svg xmlns=\"http://www.w3.org/2000/svg\" height=\"24px\"viewBox=\"0 0 24 24\"\n",
              "     width=\"24px\">\n",
              "    <g>\n",
              "        <path d=\"M19 3H5c-1.1 0-2 .9-2 2v14c0 1.1.9 2 2 2h14c1.1 0 2-.9 2-2V5c0-1.1-.9-2-2-2zM9 17H7v-7h2v7zm4 0h-2V7h2v10zm4 0h-2v-4h2v4z\"/>\n",
              "    </g>\n",
              "</svg>\n",
              "  </button>\n",
              "\n",
              "<style>\n",
              "  .colab-df-quickchart {\n",
              "      --bg-color: #E8F0FE;\n",
              "      --fill-color: #1967D2;\n",
              "      --hover-bg-color: #E2EBFA;\n",
              "      --hover-fill-color: #174EA6;\n",
              "      --disabled-fill-color: #AAA;\n",
              "      --disabled-bg-color: #DDD;\n",
              "  }\n",
              "\n",
              "  [theme=dark] .colab-df-quickchart {\n",
              "      --bg-color: #3B4455;\n",
              "      --fill-color: #D2E3FC;\n",
              "      --hover-bg-color: #434B5C;\n",
              "      --hover-fill-color: #FFFFFF;\n",
              "      --disabled-bg-color: #3B4455;\n",
              "      --disabled-fill-color: #666;\n",
              "  }\n",
              "\n",
              "  .colab-df-quickchart {\n",
              "    background-color: var(--bg-color);\n",
              "    border: none;\n",
              "    border-radius: 50%;\n",
              "    cursor: pointer;\n",
              "    display: none;\n",
              "    fill: var(--fill-color);\n",
              "    height: 32px;\n",
              "    padding: 0;\n",
              "    width: 32px;\n",
              "  }\n",
              "\n",
              "  .colab-df-quickchart:hover {\n",
              "    background-color: var(--hover-bg-color);\n",
              "    box-shadow: 0 1px 2px rgba(60, 64, 67, 0.3), 0 1px 3px 1px rgba(60, 64, 67, 0.15);\n",
              "    fill: var(--button-hover-fill-color);\n",
              "  }\n",
              "\n",
              "  .colab-df-quickchart-complete:disabled,\n",
              "  .colab-df-quickchart-complete:disabled:hover {\n",
              "    background-color: var(--disabled-bg-color);\n",
              "    fill: var(--disabled-fill-color);\n",
              "    box-shadow: none;\n",
              "  }\n",
              "\n",
              "  .colab-df-spinner {\n",
              "    border: 2px solid var(--fill-color);\n",
              "    border-color: transparent;\n",
              "    border-bottom-color: var(--fill-color);\n",
              "    animation:\n",
              "      spin 1s steps(1) infinite;\n",
              "  }\n",
              "\n",
              "  @keyframes spin {\n",
              "    0% {\n",
              "      border-color: transparent;\n",
              "      border-bottom-color: var(--fill-color);\n",
              "      border-left-color: var(--fill-color);\n",
              "    }\n",
              "    20% {\n",
              "      border-color: transparent;\n",
              "      border-left-color: var(--fill-color);\n",
              "      border-top-color: var(--fill-color);\n",
              "    }\n",
              "    30% {\n",
              "      border-color: transparent;\n",
              "      border-left-color: var(--fill-color);\n",
              "      border-top-color: var(--fill-color);\n",
              "      border-right-color: var(--fill-color);\n",
              "    }\n",
              "    40% {\n",
              "      border-color: transparent;\n",
              "      border-right-color: var(--fill-color);\n",
              "      border-top-color: var(--fill-color);\n",
              "    }\n",
              "    60% {\n",
              "      border-color: transparent;\n",
              "      border-right-color: var(--fill-color);\n",
              "    }\n",
              "    80% {\n",
              "      border-color: transparent;\n",
              "      border-right-color: var(--fill-color);\n",
              "      border-bottom-color: var(--fill-color);\n",
              "    }\n",
              "    90% {\n",
              "      border-color: transparent;\n",
              "      border-bottom-color: var(--fill-color);\n",
              "    }\n",
              "  }\n",
              "</style>\n",
              "\n",
              "  <script>\n",
              "    async function quickchart(key) {\n",
              "      const quickchartButtonEl =\n",
              "        document.querySelector('#' + key + ' button');\n",
              "      quickchartButtonEl.disabled = true;  // To prevent multiple clicks.\n",
              "      quickchartButtonEl.classList.add('colab-df-spinner');\n",
              "      try {\n",
              "        const charts = await google.colab.kernel.invokeFunction(\n",
              "            'suggestCharts', [key], {});\n",
              "      } catch (error) {\n",
              "        console.error('Error during call to suggestCharts:', error);\n",
              "      }\n",
              "      quickchartButtonEl.classList.remove('colab-df-spinner');\n",
              "      quickchartButtonEl.classList.add('colab-df-quickchart-complete');\n",
              "    }\n",
              "    (() => {\n",
              "      let quickchartButtonEl =\n",
              "        document.querySelector('#df-78d444c8-6b1e-490c-a8bf-cb4d013c9c76 button');\n",
              "      quickchartButtonEl.style.display =\n",
              "        google.colab.kernel.accessAllowed ? 'block' : 'none';\n",
              "    })();\n",
              "  </script>\n",
              "</div>\n",
              "    </div>\n",
              "  </div>\n"
            ]
          },
          "metadata": {},
          "execution_count": 5
        }
      ]
    },
    {
      "cell_type": "markdown",
      "source": [
        "### 2.2 checking class balance"
      ],
      "metadata": {
        "id": "zuvq4Sl3J3LA"
      }
    },
    {
      "cell_type": "code",
      "source": [
        "train_df['target'].value_counts()"
      ],
      "metadata": {
        "colab": {
          "base_uri": "https://localhost:8080/"
        },
        "id": "j8Ky3cafJyUP",
        "outputId": "f6bfc1ae-7130-4eba-e876-c056388a59f6"
      },
      "execution_count": null,
      "outputs": [
        {
          "output_type": "execute_result",
          "data": {
            "text/plain": [
              "0    4342\n",
              "1    3271\n",
              "Name: target, dtype: int64"
            ]
          },
          "metadata": {},
          "execution_count": 6
        }
      ]
    },
    {
      "cell_type": "code",
      "source": [
        "train_df_shuffled.info()"
      ],
      "metadata": {
        "colab": {
          "base_uri": "https://localhost:8080/"
        },
        "id": "Sd1dwnTSK_EV",
        "outputId": "d8aa3e31-1a7b-4087-bc45-b2087adb0e56"
      },
      "execution_count": null,
      "outputs": [
        {
          "output_type": "stream",
          "name": "stdout",
          "text": [
            "<class 'pandas.core.frame.DataFrame'>\n",
            "Int64Index: 7613 entries, 311 to 2732\n",
            "Data columns (total 5 columns):\n",
            " #   Column    Non-Null Count  Dtype \n",
            "---  ------    --------------  ----- \n",
            " 0   id        7613 non-null   int64 \n",
            " 1   keyword   7552 non-null   object\n",
            " 2   location  5080 non-null   object\n",
            " 3   text      7613 non-null   object\n",
            " 4   target    7613 non-null   int64 \n",
            "dtypes: int64(2), object(3)\n",
            "memory usage: 356.9+ KB\n"
          ]
        }
      ]
    },
    {
      "cell_type": "markdown",
      "source": [
        "### 2.3 check for missing values"
      ],
      "metadata": {
        "id": "IW4pwvZXM2Yt"
      }
    },
    {
      "cell_type": "code",
      "source": [
        "print(train_df_shuffled['text'].isnull().sum())  # feature\n",
        "print(train_df_shuffled['target'].isnull().sum())  # label"
      ],
      "metadata": {
        "colab": {
          "base_uri": "https://localhost:8080/"
        },
        "id": "xNNuUWN4MCSH",
        "outputId": "6143d2c7-9519-49f9-e1f4-10ae55b47d1f"
      },
      "execution_count": null,
      "outputs": [
        {
          "output_type": "stream",
          "name": "stdout",
          "text": [
            "0\n",
            "0\n"
          ]
        }
      ]
    },
    {
      "cell_type": "code",
      "source": [
        "len(train_df),len(test_df)"
      ],
      "metadata": {
        "colab": {
          "base_uri": "https://localhost:8080/"
        },
        "id": "2Eefs_jFDG2T",
        "outputId": "095ce2fb-b0de-47ad-fa43-c944e5c29348"
      },
      "execution_count": null,
      "outputs": [
        {
          "output_type": "execute_result",
          "data": {
            "text/plain": [
              "(7613, 3263)"
            ]
          },
          "metadata": {},
          "execution_count": 9
        }
      ]
    },
    {
      "cell_type": "markdown",
      "source": [
        "## train_test_split"
      ],
      "metadata": {
        "id": "IoUHu70pf0sH"
      }
    },
    {
      "cell_type": "code",
      "source": [
        "from sklearn.model_selection import train_test_split"
      ],
      "metadata": {
        "id": "31FBWkNnNu4O"
      },
      "execution_count": null,
      "outputs": []
    },
    {
      "cell_type": "code",
      "source": [
        "train_sentences,val_sentences,train_labels,val_labels = train_test_split(train_df_shuffled['text'].to_numpy(),\n",
        "                                                                         train_df_shuffled['target'].to_numpy(),\n",
        "                                                                         test_size = 0.1,\n",
        "                                                                         random_state=42)"
      ],
      "metadata": {
        "id": "wzeTaSyFGjSE"
      },
      "execution_count": null,
      "outputs": []
    },
    {
      "cell_type": "code",
      "source": [
        "len(train_sentences),len(val_sentences)"
      ],
      "metadata": {
        "colab": {
          "base_uri": "https://localhost:8080/"
        },
        "id": "t1rLo-G3HgeI",
        "outputId": "4285c343-5271-4f49-f740-bcc1d228bdb2"
      },
      "execution_count": null,
      "outputs": [
        {
          "output_type": "execute_result",
          "data": {
            "text/plain": [
              "(6851, 762)"
            ]
          },
          "metadata": {},
          "execution_count": 12
        }
      ]
    },
    {
      "cell_type": "code",
      "source": [
        "val_labels[:2]"
      ],
      "metadata": {
        "id": "Q19L1LPkHob2",
        "colab": {
          "base_uri": "https://localhost:8080/"
        },
        "outputId": "f8e858e1-9505-4505-956a-e582be530a90"
      },
      "execution_count": null,
      "outputs": [
        {
          "output_type": "execute_result",
          "data": {
            "text/plain": [
              "array([0, 1])"
            ]
          },
          "metadata": {},
          "execution_count": 13
        }
      ]
    },
    {
      "cell_type": "markdown",
      "source": [
        "# 3.0 TextVectorization"
      ],
      "metadata": {
        "id": "QVKprc1aXMsm"
      }
    },
    {
      "cell_type": "code",
      "source": [
        "import tensorflow as tf\n",
        "from tensorflow.keras.layers.experimental.preprocessing import TextVectorization"
      ],
      "metadata": {
        "id": "LEXg7usQH2Vq"
      },
      "execution_count": null,
      "outputs": []
    },
    {
      "cell_type": "markdown",
      "source": [
        "### 3.1 Preprocessing"
      ],
      "metadata": {
        "id": "GIoOjdQFkcHN"
      }
    },
    {
      "cell_type": "code",
      "source": [
        "text_vectorizer = TextVectorization(max_tokens= 10_000,\n",
        "                                    standardize='lower_and_strip_punctuation',\n",
        "                                    split = 'whitespace',\n",
        "                                    ngrams = None,\n",
        "                                    output_mode = 'int',\n",
        "                                    output_sequence_length=15, # truncate if it's more than 15, pad if it's <15\n",
        "                                    pad_to_max_tokens=True)"
      ],
      "metadata": {
        "id": "LxH0KtKhYiXF"
      },
      "execution_count": null,
      "outputs": []
    },
    {
      "cell_type": "markdown",
      "source": [
        "### 3.2 Adapt: fitting the train_sentences"
      ],
      "metadata": {
        "id": "L6YESShKkgMx"
      }
    },
    {
      "cell_type": "code",
      "source": [
        "text_vectorizer.adapt(train_sentences)"
      ],
      "metadata": {
        "id": "jJ5rCmCYehZy"
      },
      "execution_count": null,
      "outputs": []
    },
    {
      "cell_type": "code",
      "source": [
        "# eg\n",
        "text_vectorizer(['In search of Lost Time'])"
      ],
      "metadata": {
        "colab": {
          "base_uri": "https://localhost:8080/"
        },
        "id": "uXyduWxjgHPt",
        "outputId": "f9cf7d1e-71cc-424c-826b-f35a30001370"
      },
      "execution_count": null,
      "outputs": [
        {
          "output_type": "execute_result",
          "data": {
            "text/plain": [
              "<tf.Tensor: shape=(1, 15), dtype=int64, numpy=\n",
              "array([[   4, 1258,    6,  875,   89,    0,    0,    0,    0,    0,    0,\n",
              "           0,    0,    0,    0]])>"
            ]
          },
          "metadata": {},
          "execution_count": 19
        }
      ]
    },
    {
      "cell_type": "markdown",
      "source": [
        "### 3.3 get_vocabulary: for unique words"
      ],
      "metadata": {
        "id": "WdMnG7jkkrsP"
      }
    },
    {
      "cell_type": "code",
      "source": [
        "text_vectorizer.get_vocabulary() # lists from most common to the least"
      ],
      "metadata": {
        "id": "pyprvk78g7LN",
        "colab": {
          "base_uri": "https://localhost:8080/"
        },
        "outputId": "b2af5da2-4ad2-4031-e6c7-0e996ca42d20"
      },
      "execution_count": null,
      "outputs": [
        {
          "output_type": "execute_result",
          "data": {
            "text/plain": [
              "['',\n",
              " '[UNK]',\n",
              " 'the',\n",
              " 'a',\n",
              " 'in',\n",
              " 'to',\n",
              " 'of',\n",
              " 'and',\n",
              " 'i',\n",
              " 'is',\n",
              " 'for',\n",
              " 'on',\n",
              " 'you',\n",
              " 'my',\n",
              " 'it',\n",
              " 'with',\n",
              " 'that',\n",
              " 'at',\n",
              " 'by',\n",
              " 'this',\n",
              " 'from',\n",
              " 'are',\n",
              " 'be',\n",
              " 'was',\n",
              " 'have',\n",
              " 'like',\n",
              " 'up',\n",
              " 'as',\n",
              " 'just',\n",
              " 'but',\n",
              " 'so',\n",
              " 'me',\n",
              " 'im',\n",
              " 'amp',\n",
              " 'your',\n",
              " 'not',\n",
              " 'its',\n",
              " 'out',\n",
              " 'all',\n",
              " 'after',\n",
              " 'when',\n",
              " 'will',\n",
              " 'no',\n",
              " 'has',\n",
              " 'an',\n",
              " 'if',\n",
              " 'we',\n",
              " 'fire',\n",
              " 'get',\n",
              " 'now',\n",
              " 'new',\n",
              " 'about',\n",
              " 'what',\n",
              " 'more',\n",
              " 'via',\n",
              " 'he',\n",
              " 'dont',\n",
              " 'been',\n",
              " 'they',\n",
              " 'or',\n",
              " 'news',\n",
              " 'over',\n",
              " 'one',\n",
              " 'how',\n",
              " 'people',\n",
              " 'who',\n",
              " 'into',\n",
              " 'us',\n",
              " 'video',\n",
              " 'were',\n",
              " 'do',\n",
              " '2',\n",
              " 'can',\n",
              " 'disaster',\n",
              " 'emergency',\n",
              " 'there',\n",
              " 'police',\n",
              " 'than',\n",
              " 'her',\n",
              " 'his',\n",
              " 'some',\n",
              " 'would',\n",
              " 'still',\n",
              " 'body',\n",
              " 'storm',\n",
              " 'burning',\n",
              " 'back',\n",
              " 'why',\n",
              " 'california',\n",
              " 'time',\n",
              " 'them',\n",
              " 'suicide',\n",
              " 'day',\n",
              " 'got',\n",
              " 'man',\n",
              " 'first',\n",
              " 'know',\n",
              " 'had',\n",
              " 'buildings',\n",
              " 'crash',\n",
              " 'off',\n",
              " 'nuclear',\n",
              " 'bomb',\n",
              " 'love',\n",
              " 'going',\n",
              " 'world',\n",
              " 'see',\n",
              " 'our',\n",
              " 'rt',\n",
              " 'cant',\n",
              " 'train',\n",
              " 'attack',\n",
              " 'youtube',\n",
              " 'go',\n",
              " 'two',\n",
              " 'dead',\n",
              " 'their',\n",
              " 'may',\n",
              " '3',\n",
              " 'watch',\n",
              " 'killed',\n",
              " 'full',\n",
              " 'life',\n",
              " 'fires',\n",
              " 'car',\n",
              " 'war',\n",
              " 'think',\n",
              " 'families',\n",
              " 'being',\n",
              " 'accident',\n",
              " 'want',\n",
              " 'u',\n",
              " 'many',\n",
              " 'good',\n",
              " 'today',\n",
              " 'say',\n",
              " 'only',\n",
              " 'down',\n",
              " 'last',\n",
              " 'hiroshima',\n",
              " 'years',\n",
              " 'here',\n",
              " 'way',\n",
              " 'did',\n",
              " 'too',\n",
              " 'then',\n",
              " 'need',\n",
              " 'could',\n",
              " 'look',\n",
              " 'even',\n",
              " 'make',\n",
              " 'home',\n",
              " 'him',\n",
              " 'help',\n",
              " 'because',\n",
              " 'year',\n",
              " 'mass',\n",
              " 'death',\n",
              " 'best',\n",
              " 'work',\n",
              " 'really',\n",
              " 'lol',\n",
              " 'wildfire',\n",
              " 'right',\n",
              " 'please',\n",
              " 'collapse',\n",
              " 'army',\n",
              " 'youre',\n",
              " 'should',\n",
              " 'another',\n",
              " 'am',\n",
              " 'much',\n",
              " 'let',\n",
              " 'those',\n",
              " 'school',\n",
              " 'mh370',\n",
              " 'hot',\n",
              " 'wreck',\n",
              " 'take',\n",
              " 'pm',\n",
              " 'fatal',\n",
              " 'black',\n",
              " '5',\n",
              " '4',\n",
              " 'northern',\n",
              " 'legionnaires',\n",
              " 'water',\n",
              " 'bombing',\n",
              " 'thats',\n",
              " 'obama',\n",
              " 'great',\n",
              " 'she',\n",
              " 'live',\n",
              " 'city',\n",
              " '\\x89Û',\n",
              " 'never',\n",
              " 'every',\n",
              " 'come',\n",
              " 'any',\n",
              " '2015',\n",
              " '1',\n",
              " 'oil',\n",
              " 'latest',\n",
              " 'forest',\n",
              " 'where',\n",
              " 'homes',\n",
              " 'bomber',\n",
              " 'under',\n",
              " 'old',\n",
              " 'military',\n",
              " 'feel',\n",
              " 'fear',\n",
              " 'while',\n",
              " 'since',\n",
              " 'shit',\n",
              " 'read',\n",
              " 'before',\n",
              " 'said',\n",
              " 'god',\n",
              " 'getting',\n",
              " 'floods',\n",
              " 'flood',\n",
              " 'flames',\n",
              " 'content',\n",
              " 'state',\n",
              " 'japan',\n",
              " 'hope',\n",
              " 'without',\n",
              " 'weather',\n",
              " 'next',\n",
              " 'near',\n",
              " 'atomic',\n",
              " 'smoke',\n",
              " 'night',\n",
              " 'injured',\n",
              " 'truck',\n",
              " 'top',\n",
              " 'times',\n",
              " 'hit',\n",
              " 'everyone',\n",
              " 'ever',\n",
              " 'coming',\n",
              " 'thunderstorm',\n",
              " 'these',\n",
              " 'set',\n",
              " 'plan',\n",
              " 'most',\n",
              " 'malaysia',\n",
              " 'found',\n",
              " 'debris',\n",
              " 'damage',\n",
              " 'ass',\n",
              " 'which',\n",
              " 'through',\n",
              " 'stop',\n",
              " 'spill',\n",
              " 'reddit',\n",
              " 'flooding',\n",
              " 'evacuation',\n",
              " 'cause',\n",
              " 'bloody',\n",
              " 'weapon',\n",
              " 'until',\n",
              " 'thunder',\n",
              " 'missing',\n",
              " 'heat',\n",
              " 'gonna',\n",
              " 'earthquake',\n",
              " 'during',\n",
              " 'well',\n",
              " 'w',\n",
              " 'severe',\n",
              " 's',\n",
              " 'looks',\n",
              " 'lightning',\n",
              " 'hes',\n",
              " 'fucking',\n",
              " 'food',\n",
              " 'check',\n",
              " 'also',\n",
              " 'wounded',\n",
              " 'theres',\n",
              " 'sinking',\n",
              " 'services',\n",
              " 'refugees',\n",
              " 'rain',\n",
              " 'movie',\n",
              " 'little',\n",
              " 'liked',\n",
              " 'house',\n",
              " 'high',\n",
              " 'family',\n",
              " 'fall',\n",
              " 'explosion',\n",
              " 'end',\n",
              " 'cross',\n",
              " '70',\n",
              " 'wrecked',\n",
              " 'warning',\n",
              " 'summer',\n",
              " 'outbreak',\n",
              " 'murder',\n",
              " 'loud',\n",
              " 'injuries',\n",
              " 'face',\n",
              " 'confirmed',\n",
              " 'attacked',\n",
              " 'always',\n",
              " 'wild',\n",
              " 'trapped',\n",
              " 'says',\n",
              " 'save',\n",
              " 'run',\n",
              " 'panic',\n",
              " 'lives',\n",
              " 'hail',\n",
              " 'destroyed',\n",
              " 'deaths',\n",
              " 'collided',\n",
              " 'change',\n",
              " 'bad',\n",
              " 'again',\n",
              " 'wind',\n",
              " 'weapons',\n",
              " 'twister',\n",
              " 'trauma',\n",
              " 'released',\n",
              " 'post',\n",
              " 'natural',\n",
              " 'migrants',\n",
              " 'fuck',\n",
              " 'free',\n",
              " 'failure',\n",
              " 'derailment',\n",
              " 'county',\n",
              " 'whole',\n",
              " 'violent',\n",
              " 'terrorist',\n",
              " 'story',\n",
              " 'screaming',\n",
              " 'made',\n",
              " 'ive',\n",
              " 'head',\n",
              " 'fatalities',\n",
              " 'does',\n",
              " 'destroy',\n",
              " 'blood',\n",
              " 'big',\n",
              " 'bags',\n",
              " 'around',\n",
              " 'whirlwind',\n",
              " 'terrorism',\n",
              " 'survivors',\n",
              " 'survived',\n",
              " 'survive',\n",
              " 'stock',\n",
              " 'someone',\n",
              " 'rescuers',\n",
              " 'rescue',\n",
              " 'put',\n",
              " 'photo',\n",
              " 'mudslide',\n",
              " 'hurricane',\n",
              " 'game',\n",
              " 'evacuate',\n",
              " 'collapsed',\n",
              " 'catastrophe',\n",
              " 'bridge',\n",
              " 'better',\n",
              " 'bag',\n",
              " 'air',\n",
              " '40',\n",
              " 'wreckage',\n",
              " 'tragedy',\n",
              " 'tonight',\n",
              " 'service',\n",
              " 'ruin',\n",
              " 'riot',\n",
              " 'red',\n",
              " 'ok',\n",
              " 'oh',\n",
              " 'massacre',\n",
              " 'keep',\n",
              " 'hostages',\n",
              " 'girl',\n",
              " 'exploded',\n",
              " 'explode',\n",
              " 'engulfed',\n",
              " 'drought',\n",
              " 'destruction',\n",
              " 'deluge',\n",
              " 'call',\n",
              " 'away',\n",
              " 'armageddon',\n",
              " 'area',\n",
              " 'ambulance',\n",
              " 'against',\n",
              " 'woman',\n",
              " 'windstorm',\n",
              " 'update',\n",
              " 'twitter',\n",
              " 'things',\n",
              " 'sunk',\n",
              " 'sinkhole',\n",
              " 'screamed',\n",
              " 'saw',\n",
              " 'sandstorm',\n",
              " 'rioting',\n",
              " 'rescued',\n",
              " 'report',\n",
              " 'quarantined',\n",
              " 'quarantine',\n",
              " 'phone',\n",
              " 'island',\n",
              " 'inundated',\n",
              " 'ill',\n",
              " 'harm',\n",
              " 'dust',\n",
              " 'drown',\n",
              " 'cliff',\n",
              " 'burned',\n",
              " 'breaking',\n",
              " 'boy',\n",
              " 'boat',\n",
              " 'august',\n",
              " 'women',\n",
              " 'white',\n",
              " 'trouble',\n",
              " 'traumatised',\n",
              " 'suspect',\n",
              " 'show',\n",
              " 'saudi',\n",
              " 'real',\n",
              " 'past',\n",
              " 'market',\n",
              " 'hazardous',\n",
              " 'electrocuted',\n",
              " 'drowning',\n",
              " 'displaced',\n",
              " 'danger',\n",
              " 'bleeding',\n",
              " '\\x89ÛÒ',\n",
              " 'week',\n",
              " 'wave',\n",
              " 'thing',\n",
              " 'send',\n",
              " 'road',\n",
              " 'power',\n",
              " 'other',\n",
              " 'national',\n",
              " 'meltdown',\n",
              " 'lot',\n",
              " 'long',\n",
              " 'landslide',\n",
              " 'hundreds',\n",
              " 'horrible',\n",
              " 'heard',\n",
              " 'devastation',\n",
              " 'derailed',\n",
              " 'curfew',\n",
              " 'collide',\n",
              " 'chemical',\n",
              " 'charged',\n",
              " 'blew',\n",
              " 'airplane',\n",
              " 'very',\n",
              " 'use',\n",
              " 'thank',\n",
              " 'structural',\n",
              " 'song',\n",
              " 'screams',\n",
              " 'possible',\n",
              " 'part',\n",
              " 'left',\n",
              " 'isis',\n",
              " 'injury',\n",
              " 'id',\n",
              " 'hijacking',\n",
              " 'heart',\n",
              " 'hazard',\n",
              " 'half',\n",
              " 'flattened',\n",
              " 'evacuated',\n",
              " 'due',\n",
              " 'desolation',\n",
              " 'crush',\n",
              " 'crashed',\n",
              " 'came',\n",
              " 'calgary',\n",
              " 'bombed',\n",
              " 'blown',\n",
              " 'bang',\n",
              " 'bagging',\n",
              " 'arson',\n",
              " 'apocalypse',\n",
              " 'anniversary',\n",
              " 'affected',\n",
              " '9',\n",
              " '6',\n",
              " 'went',\n",
              " 'wanna',\n",
              " 'typhoon',\n",
              " 'traffic',\n",
              " 'tornado',\n",
              " 'st',\n",
              " 'sound',\n",
              " 'something',\n",
              " 'reunion',\n",
              " 'responders',\n",
              " 'remember',\n",
              " 'panicking',\n",
              " 'pandemonium',\n",
              " 'obliterated',\n",
              " 'must',\n",
              " 'least',\n",
              " 'lava',\n",
              " 'kills',\n",
              " 'issues',\n",
              " 'iran',\n",
              " 'investigators',\n",
              " 'hostage',\n",
              " 'hellfire',\n",
              " 'group',\n",
              " 'government',\n",
              " 'fedex',\n",
              " 'famine',\n",
              " 'doing',\n",
              " 'derail',\n",
              " 'care',\n",
              " 'bus',\n",
              " 'bioterror',\n",
              " 'battle',\n",
              " 'baby',\n",
              " 'airport',\n",
              " 'wounds',\n",
              " 'words',\n",
              " 'tomorrow',\n",
              " 'three',\n",
              " 'sirens',\n",
              " 'same',\n",
              " 'river',\n",
              " 'razed',\n",
              " 'pkk',\n",
              " 'officials',\n",
              " 'murderer',\n",
              " 'minute',\n",
              " 'light',\n",
              " 'kill',\n",
              " 'israeli',\n",
              " 'goes',\n",
              " 'few',\n",
              " 'fatality',\n",
              " 'eyewitness',\n",
              " 'ebay',\n",
              " 'demolish',\n",
              " 'casualties',\n",
              " 'beautiful',\n",
              " 'actually',\n",
              " 'zone',\n",
              " 'used',\n",
              " 'turkey',\n",
              " 'thought',\n",
              " 'shooting',\n",
              " 'security',\n",
              " 'rainstorm',\n",
              " 'prebreak',\n",
              " 'plane',\n",
              " 'obliterate',\n",
              " 'nothing',\n",
              " 'mosque',\n",
              " 'media',\n",
              " 'lets',\n",
              " 'land',\n",
              " 'kids',\n",
              " 'inside',\n",
              " 'hijacker',\n",
              " 'guys',\n",
              " 'fight',\n",
              " 'fan',\n",
              " 'didnt',\n",
              " 'detonated',\n",
              " 'detonate',\n",
              " 'days',\n",
              " 'cyclone',\n",
              " 'crushed',\n",
              " 'cool',\n",
              " 'blazing',\n",
              " 'blast',\n",
              " 'annihilated',\n",
              " '\\x89ÛÓ',\n",
              " 'yourself',\n",
              " 'yet',\n",
              " 'whats',\n",
              " 'wait',\n",
              " 'upheaval',\n",
              " 'trying',\n",
              " 'thanks',\n",
              " 'south',\n",
              " 'person',\n",
              " 'nowplaying',\n",
              " 'north',\n",
              " 'music',\n",
              " 'longer',\n",
              " 'leave',\n",
              " 'hijack',\n",
              " 'having',\n",
              " 'fun',\n",
              " 'far',\n",
              " 'done',\n",
              " 'doesnt',\n",
              " 'died',\n",
              " 'detonation',\n",
              " 'demolished',\n",
              " 'catastrophic',\n",
              " '8',\n",
              " 'wake',\n",
              " 'volcano',\n",
              " 'ur',\n",
              " 'swallowed',\n",
              " 'sue',\n",
              " 'such',\n",
              " 'soon',\n",
              " 'shoulder',\n",
              " 'shot',\n",
              " 'policy',\n",
              " 'pic',\n",
              " 'officer',\n",
              " 'obliteration',\n",
              " 'mp',\n",
              " 'men',\n",
              " 'horror',\n",
              " 'electrocute',\n",
              " 'drowned',\n",
              " 'demolition',\n",
              " 'bush',\n",
              " 'building',\n",
              " 'both',\n",
              " 'bigger',\n",
              " 'already',\n",
              " 'ago',\n",
              " 'ablaze',\n",
              " '16yr',\n",
              " '15',\n",
              " 'tsunami',\n",
              " 'sure',\n",
              " 'stay',\n",
              " 'start',\n",
              " 'second',\n",
              " 'reactor',\n",
              " 'projected',\n",
              " 'own',\n",
              " 'n',\n",
              " 'la',\n",
              " 'islam',\n",
              " 'india',\n",
              " 'hours',\n",
              " 'hell',\n",
              " 'deluged',\n",
              " 'declares',\n",
              " 'data',\n",
              " 'collision',\n",
              " 'blight',\n",
              " 'believe',\n",
              " 'bc',\n",
              " 'anything',\n",
              " 'almost',\n",
              " 'yeah',\n",
              " 'waves',\n",
              " 'typhoondevastated',\n",
              " 'tell',\n",
              " 'support',\n",
              " 'snowstorm',\n",
              " 'site',\n",
              " 'saved',\n",
              " 'saipan',\n",
              " 'rubble',\n",
              " 'peace',\n",
              " 'nearby',\n",
              " 'might',\n",
              " 'maybe',\n",
              " 'making',\n",
              " 'lab',\n",
              " 'health',\n",
              " 'happy',\n",
              " 'caused',\n",
              " 'brown',\n",
              " 'american',\n",
              " 'aircraft',\n",
              " '7',\n",
              " '50',\n",
              " '30',\n",
              " 'youth',\n",
              " 'yes',\n",
              " 'theyre',\n",
              " 'stretcher',\n",
              " 'siren',\n",
              " 'seismic',\n",
              " 're\\x89Û',\n",
              " 'refugio',\n",
              " 'plans',\n",
              " 'place',\n",
              " 'outside',\n",
              " 'low',\n",
              " 'job',\n",
              " 'history',\n",
              " 'hear',\n",
              " 'gets',\n",
              " 'deal',\n",
              " 'crews',\n",
              " 'costlier',\n",
              " 'caught',\n",
              " 'bodies',\n",
              " 'avalanche',\n",
              " 'anyone',\n",
              " 'abc',\n",
              " '20',\n",
              " '12',\n",
              " '10',\n",
              " 'watching',\n",
              " 'tv',\n",
              " 'trench',\n",
              " 'street',\n",
              " 'soudelor',\n",
              " 'signs',\n",
              " 'shes',\n",
              " 'searching',\n",
              " 'probably',\n",
              " 'pretty',\n",
              " 'pick',\n",
              " 'photos',\n",
              " 'okay',\n",
              " 'name',\n",
              " 'move',\n",
              " 'money',\n",
              " 'mom',\n",
              " 'makes',\n",
              " 'major',\n",
              " 'isnt',\n",
              " 'hey',\n",
              " 'helicopter',\n",
              " 'hat',\n",
              " 'gt',\n",
              " 'find',\n",
              " 'finally',\n",
              " 'everything',\n",
              " 'effect',\n",
              " 'die',\n",
              " 'desolate',\n",
              " 'd',\n",
              " 'conclusively',\n",
              " 'casualty',\n",
              " 'called',\n",
              " 'business',\n",
              " 'bioterrorism',\n",
              " 'bar',\n",
              " 'wont',\n",
              " 'west',\n",
              " 'town',\n",
              " 'though',\n",
              " 'team',\n",
              " 'space',\n",
              " 'seen',\n",
              " 'rise',\n",
              " 'order',\n",
              " 'nearly',\n",
              " 'myself',\n",
              " 'morning',\n",
              " 'memories',\n",
              " 'listen',\n",
              " 'leather',\n",
              " 'flag',\n",
              " 'feeling',\n",
              " 'daily',\n",
              " 'country',\n",
              " 'control',\n",
              " 'class',\n",
              " 'children',\n",
              " 'center',\n",
              " 'case',\n",
              " 'book',\n",
              " 'blaze',\n",
              " 'ball',\n",
              " 'annihilation',\n",
              " 'village',\n",
              " 'view',\n",
              " 'vehicle',\n",
              " 'truth',\n",
              " 'transport',\n",
              " 'texas',\n",
              " 'temple',\n",
              " 'talk',\n",
              " 'spot',\n",
              " 'side',\n",
              " 'reuters',\n",
              " 'reports',\n",
              " 'play',\n",
              " 'picking',\n",
              " 'pain',\n",
              " 'online',\n",
              " 'once',\n",
              " 'omg',\n",
              " 'offensive',\n",
              " 'meek',\n",
              " 'mayhem',\n",
              " 'm',\n",
              " 'literally',\n",
              " 'level',\n",
              " 'huge',\n",
              " 'east',\n",
              " 'computers',\n",
              " 'chance',\n",
              " 'cars',\n",
              " 'blue',\n",
              " 'banned',\n",
              " 'aug',\n",
              " 'amid',\n",
              " 'across',\n",
              " 'wow',\n",
              " 'totally',\n",
              " 'running',\n",
              " 'reason',\n",
              " 'ready',\n",
              " 'poor',\n",
              " 'pakistan',\n",
              " 'others',\n",
              " 'needs',\n",
              " 'muslims',\n",
              " 'mount',\n",
              " 'miners',\n",
              " 'manslaughter',\n",
              " 'lord',\n",
              " 'line',\n",
              " 'large',\n",
              " 'issued',\n",
              " 'hollywood',\n",
              " 'haha',\n",
              " 'guy',\n",
              " 'gbbo',\n",
              " 'fukushima',\n",
              " 'friends',\n",
              " 'fast',\n",
              " 'eyes',\n",
              " 'entire',\n",
              " 'declaration',\n",
              " 'damn',\n",
              " 'course',\n",
              " 'coaches',\n",
              " 'christian',\n",
              " 'child',\n",
              " 'become',\n",
              " 'america',\n",
              " 'aftershock',\n",
              " '13',\n",
              " 'yours',\n",
              " 'worst',\n",
              " 'womens',\n",
              " 'wanted',\n",
              " 'united',\n",
              " 'trust',\n",
              " 'trains',\n",
              " 'toddler',\n",
              " 'thursday',\n",
              " 'thousands',\n",
              " 'taken',\n",
              " 't',\n",
              " 'star',\n",
              " 'stand',\n",
              " 'ship',\n",
              " 'self',\n",
              " 'russian',\n",
              " 'rd',\n",
              " 'radio',\n",
              " 'quiz',\n",
              " 'patience',\n",
              " 'official',\n",
              " 'lost',\n",
              " 'link',\n",
              " 'ladies',\n",
              " 'jobs',\n",
              " 'hate',\n",
              " 'hard',\n",
              " 'happened',\n",
              " 'giant',\n",
              " 'gems',\n",
              " 'former',\n",
              " 'follow',\n",
              " 'flash',\n",
              " 'feared',\n",
              " 'favorite',\n",
              " 'emmerdale',\n",
              " 'else',\n",
              " 'drake',\n",
              " 'downtown',\n",
              " 'disea',\n",
              " 'devastated',\n",
              " 'date',\n",
              " 'crisis',\n",
              " 'cnn',\n",
              " 'closed',\n",
              " 'centre',\n",
              " 'cake',\n",
              " 'blizzard',\n",
              " 'beach',\n",
              " 'bbc',\n",
              " 'b',\n",
              " 'arsonist',\n",
              " 'anthrax',\n",
              " 'alone',\n",
              " 'action',\n",
              " '25',\n",
              " '11yearold',\n",
              " '11',\n",
              " 'wrong',\n",
              " 'win',\n",
              " 'vs',\n",
              " 'taking',\n",
              " 'takes',\n",
              " 'soul',\n",
              " 'sorry',\n",
              " 'rock',\n",
              " 'rly',\n",
              " 'reddits',\n",
              " 'r',\n",
              " 'public',\n",
              " 'pradesh',\n",
              " 'ppl',\n",
              " 'playing',\n",
              " 'party',\n",
              " 'pamela',\n",
              " 'niggas',\n",
              " 'mph',\n",
              " 'moment',\n",
              " 'mishaps',\n",
              " 'militants',\n",
              " 'madhya',\n",
              " 'mad',\n",
              " 'looking',\n",
              " 'knock',\n",
              " 'insurance',\n",
              " 'instead',\n",
              " 'ignition',\n",
              " 'human',\n",
              " 'houses',\n",
              " 'hiring',\n",
              " 'heavy',\n",
              " 'hailstorm',\n",
              " 'gun',\n",
              " 'funtenna',\n",
              " 'friend',\n",
              " 'four',\n",
              " 'flight',\n",
              " 'drive',\n",
              " 'download',\n",
              " 'disease',\n",
              " 'crazy',\n",
              " 'couple',\n",
              " 'colorado',\n",
              " 'climate',\n",
              " 'chinas',\n",
              " 'china',\n",
              " 'chile',\n",
              " 'british',\n",
              " 'bombs',\n",
              " 'bestnaijamade',\n",
              " 'bayelsa',\n",
              " 'angry',\n",
              " 'added',\n",
              " '60',\n",
              " '100',\n",
              " '05',\n",
              " 'worse',\n",
              " 'waving',\n",
              " 'wants',\n",
              " 'usa',\n",
              " 'upon',\n",
              " 'turned',\n",
              " 'turn',\n",
              " 'try',\n",
              " 'told',\n",
              " 'till',\n",
              " 'theater',\n",
              " 'terror',\n",
              " 'super',\n",
              " 'subreddits',\n",
              " 'share',\n",
              " 'series',\n",
              " 'scared',\n",
              " 'safety',\n",
              " 'russia',\n",
              " 'room',\n",
              " 'risk',\n",
              " 'research',\n",
              " 'pay',\n",
              " 'parole',\n",
              " 'park',\n",
              " 'nws',\n",
              " 'nigerian',\n",
              " 'middle',\n",
              " 'landing',\n",
              " 'japanese',\n",
              " ...]"
            ]
          },
          "metadata": {},
          "execution_count": 20
        }
      ]
    },
    {
      "cell_type": "markdown",
      "source": [
        "# 4.0 Embedding"
      ],
      "metadata": {
        "id": "A2TwRXHFkK4K"
      }
    },
    {
      "cell_type": "code",
      "source": [
        "from tensorflow.keras import layers\n",
        "from tensorflow import keras"
      ],
      "metadata": {
        "id": "OuddOXXRm7l0"
      },
      "execution_count": null,
      "outputs": []
    },
    {
      "cell_type": "code",
      "source": [
        "embedding = layers.Embedding(input_dim = 10_000 , # max_vocab_length (setting input_shape)\n",
        "                             output_dim = 128,    #                  (setting output shape)\n",
        "                             embeddings_initializer='uniform', # default, initialize randomly\n",
        "                             input_length = 15)\n",
        "\n",
        "embedding"
      ],
      "metadata": {
        "colab": {
          "base_uri": "https://localhost:8080/"
        },
        "id": "CveaLZnqm_uC",
        "outputId": "798a6d45-7e85-4e7c-9341-d3f84fd119db"
      },
      "execution_count": null,
      "outputs": [
        {
          "output_type": "execute_result",
          "data": {
            "text/plain": [
              "<keras.src.layers.core.embedding.Embedding at 0x7f6be1497760>"
            ]
          },
          "metadata": {},
          "execution_count": 22
        }
      ]
    },
    {
      "cell_type": "code",
      "source": [
        "# eg\n",
        "embedding(text_vectorizer('In search of Lost Time '))[1]  # embedding of word 'search'"
      ],
      "metadata": {
        "id": "iIef-swkoAuw",
        "colab": {
          "base_uri": "https://localhost:8080/"
        },
        "outputId": "157f81a6-0fd0-4c76-abda-3d86b4adfe61"
      },
      "execution_count": null,
      "outputs": [
        {
          "output_type": "execute_result",
          "data": {
            "text/plain": [
              "<tf.Tensor: shape=(128,), dtype=float32, numpy=\n",
              "array([-0.04041485,  0.04064578, -0.04110335, -0.04500611,  0.02764568,\n",
              "       -0.03613391,  0.01088287,  0.02864676,  0.01364789,  0.04862897,\n",
              "        0.03574023,  0.04652173, -0.04122937, -0.02925955,  0.03815642,\n",
              "        0.0468995 , -0.01319392, -0.00608879, -0.00316501,  0.04157827,\n",
              "        0.02221796,  0.04440938, -0.04121836,  0.00082737, -0.00102226,\n",
              "       -0.02167121,  0.04778894, -0.04147389,  0.02140671,  0.00308583,\n",
              "        0.04964102, -0.04115548,  0.00106889,  0.04894083,  0.01959098,\n",
              "       -0.04863235,  0.02462626,  0.00735426,  0.03939659,  0.03534645,\n",
              "        0.0010092 ,  0.02433008, -0.01455846,  0.01548746, -0.00702054,\n",
              "       -0.02844869, -0.03011581,  0.03949824,  0.0476363 ,  0.03564194,\n",
              "        0.02162689,  0.0391641 ,  0.0152552 , -0.00096397,  0.00984512,\n",
              "        0.02077417, -0.04881427,  0.01620029,  0.03421075,  0.01065887,\n",
              "       -0.01597319,  0.04351968,  0.0097848 , -0.01932026, -0.01669098,\n",
              "       -0.03444927, -0.00018405, -0.02402527, -0.03022565,  0.01426038,\n",
              "        0.00351667, -0.01629468, -0.02987191, -0.04390725, -0.04182944,\n",
              "        0.04685574, -0.03395315,  0.03443633,  0.04632604,  0.03936264,\n",
              "       -0.00212542, -0.01285512, -0.00526886,  0.04350884, -0.01644654,\n",
              "       -0.0048924 , -0.04760996, -0.0028335 ,  0.00662702, -0.00458417,\n",
              "       -0.02774462,  0.03514102,  0.0097689 ,  0.03957492,  0.02770283,\n",
              "        0.02844613, -0.04992019,  0.03832245, -0.03913317, -0.00728227,\n",
              "        0.00107802,  0.01833533, -0.03703109,  0.03164936, -0.03482749,\n",
              "        0.04640789, -0.00117278,  0.02111746,  0.00090643,  0.044312  ,\n",
              "       -0.00541636, -0.01471738, -0.01881483, -0.04118321,  0.02383054,\n",
              "        0.01811313,  0.00244761,  0.03439745,  0.04569261,  0.03512878,\n",
              "       -0.04273515, -0.01615453, -0.01435201,  0.03014404, -0.03772295,\n",
              "       -0.03577038, -0.00146883, -0.01566007], dtype=float32)>"
            ]
          },
          "metadata": {},
          "execution_count": 23
        }
      ]
    },
    {
      "cell_type": "markdown",
      "source": [
        "# 5.0 Models"
      ],
      "metadata": {
        "id": "kLh-IriBLqgB"
      }
    },
    {
      "cell_type": "markdown",
      "source": [
        "### 5.1 Model 0: naive_bayes"
      ],
      "metadata": {
        "id": "Dio7xz3PpK_Z"
      }
    },
    {
      "cell_type": "code",
      "source": [
        "from sklearn.feature_extraction.text import TfidfVectorizer\n",
        "from sklearn.naive_bayes import MultinomialNB\n",
        "from sklearn.pipeline import Pipeline"
      ],
      "metadata": {
        "id": "n4ksObztJCe0"
      },
      "execution_count": null,
      "outputs": []
    },
    {
      "cell_type": "code",
      "source": [
        "model_0 = Pipeline([\n",
        "    ('tfidf',TfidfVectorizer()),\n",
        "    ('clf',MultinomialNB())\n",
        "])\n",
        "\n",
        "model_0.fit(train_sentences,train_labels)"
      ],
      "metadata": {
        "colab": {
          "base_uri": "https://localhost:8080/",
          "height": 126
        },
        "id": "E__uqAylJNqQ",
        "outputId": "b7ec3938-90f9-4917-d9f0-dba998cb437f"
      },
      "execution_count": null,
      "outputs": [
        {
          "output_type": "execute_result",
          "data": {
            "text/plain": [
              "Pipeline(steps=[('tfidf', TfidfVectorizer()), ('clf', MultinomialNB())])"
            ],
            "text/html": [
              "<style>#sk-container-id-1 {color: black;background-color: white;}#sk-container-id-1 pre{padding: 0;}#sk-container-id-1 div.sk-toggleable {background-color: white;}#sk-container-id-1 label.sk-toggleable__label {cursor: pointer;display: block;width: 100%;margin-bottom: 0;padding: 0.3em;box-sizing: border-box;text-align: center;}#sk-container-id-1 label.sk-toggleable__label-arrow:before {content: \"▸\";float: left;margin-right: 0.25em;color: #696969;}#sk-container-id-1 label.sk-toggleable__label-arrow:hover:before {color: black;}#sk-container-id-1 div.sk-estimator:hover label.sk-toggleable__label-arrow:before {color: black;}#sk-container-id-1 div.sk-toggleable__content {max-height: 0;max-width: 0;overflow: hidden;text-align: left;background-color: #f0f8ff;}#sk-container-id-1 div.sk-toggleable__content pre {margin: 0.2em;color: black;border-radius: 0.25em;background-color: #f0f8ff;}#sk-container-id-1 input.sk-toggleable__control:checked~div.sk-toggleable__content {max-height: 200px;max-width: 100%;overflow: auto;}#sk-container-id-1 input.sk-toggleable__control:checked~label.sk-toggleable__label-arrow:before {content: \"▾\";}#sk-container-id-1 div.sk-estimator input.sk-toggleable__control:checked~label.sk-toggleable__label {background-color: #d4ebff;}#sk-container-id-1 div.sk-label input.sk-toggleable__control:checked~label.sk-toggleable__label {background-color: #d4ebff;}#sk-container-id-1 input.sk-hidden--visually {border: 0;clip: rect(1px 1px 1px 1px);clip: rect(1px, 1px, 1px, 1px);height: 1px;margin: -1px;overflow: hidden;padding: 0;position: absolute;width: 1px;}#sk-container-id-1 div.sk-estimator {font-family: monospace;background-color: #f0f8ff;border: 1px dotted black;border-radius: 0.25em;box-sizing: border-box;margin-bottom: 0.5em;}#sk-container-id-1 div.sk-estimator:hover {background-color: #d4ebff;}#sk-container-id-1 div.sk-parallel-item::after {content: \"\";width: 100%;border-bottom: 1px solid gray;flex-grow: 1;}#sk-container-id-1 div.sk-label:hover label.sk-toggleable__label {background-color: #d4ebff;}#sk-container-id-1 div.sk-serial::before {content: \"\";position: absolute;border-left: 1px solid gray;box-sizing: border-box;top: 0;bottom: 0;left: 50%;z-index: 0;}#sk-container-id-1 div.sk-serial {display: flex;flex-direction: column;align-items: center;background-color: white;padding-right: 0.2em;padding-left: 0.2em;position: relative;}#sk-container-id-1 div.sk-item {position: relative;z-index: 1;}#sk-container-id-1 div.sk-parallel {display: flex;align-items: stretch;justify-content: center;background-color: white;position: relative;}#sk-container-id-1 div.sk-item::before, #sk-container-id-1 div.sk-parallel-item::before {content: \"\";position: absolute;border-left: 1px solid gray;box-sizing: border-box;top: 0;bottom: 0;left: 50%;z-index: -1;}#sk-container-id-1 div.sk-parallel-item {display: flex;flex-direction: column;z-index: 1;position: relative;background-color: white;}#sk-container-id-1 div.sk-parallel-item:first-child::after {align-self: flex-end;width: 50%;}#sk-container-id-1 div.sk-parallel-item:last-child::after {align-self: flex-start;width: 50%;}#sk-container-id-1 div.sk-parallel-item:only-child::after {width: 0;}#sk-container-id-1 div.sk-dashed-wrapped {border: 1px dashed gray;margin: 0 0.4em 0.5em 0.4em;box-sizing: border-box;padding-bottom: 0.4em;background-color: white;}#sk-container-id-1 div.sk-label label {font-family: monospace;font-weight: bold;display: inline-block;line-height: 1.2em;}#sk-container-id-1 div.sk-label-container {text-align: center;}#sk-container-id-1 div.sk-container {/* jupyter's `normalize.less` sets `[hidden] { display: none; }` but bootstrap.min.css set `[hidden] { display: none !important; }` so we also need the `!important` here to be able to override the default hidden behavior on the sphinx rendered scikit-learn.org. See: https://github.com/scikit-learn/scikit-learn/issues/21755 */display: inline-block !important;position: relative;}#sk-container-id-1 div.sk-text-repr-fallback {display: none;}</style><div id=\"sk-container-id-1\" class=\"sk-top-container\"><div class=\"sk-text-repr-fallback\"><pre>Pipeline(steps=[(&#x27;tfidf&#x27;, TfidfVectorizer()), (&#x27;clf&#x27;, MultinomialNB())])</pre><b>In a Jupyter environment, please rerun this cell to show the HTML representation or trust the notebook. <br />On GitHub, the HTML representation is unable to render, please try loading this page with nbviewer.org.</b></div><div class=\"sk-container\" hidden><div class=\"sk-item sk-dashed-wrapped\"><div class=\"sk-label-container\"><div class=\"sk-label sk-toggleable\"><input class=\"sk-toggleable__control sk-hidden--visually\" id=\"sk-estimator-id-1\" type=\"checkbox\" ><label for=\"sk-estimator-id-1\" class=\"sk-toggleable__label sk-toggleable__label-arrow\">Pipeline</label><div class=\"sk-toggleable__content\"><pre>Pipeline(steps=[(&#x27;tfidf&#x27;, TfidfVectorizer()), (&#x27;clf&#x27;, MultinomialNB())])</pre></div></div></div><div class=\"sk-serial\"><div class=\"sk-item\"><div class=\"sk-estimator sk-toggleable\"><input class=\"sk-toggleable__control sk-hidden--visually\" id=\"sk-estimator-id-2\" type=\"checkbox\" ><label for=\"sk-estimator-id-2\" class=\"sk-toggleable__label sk-toggleable__label-arrow\">TfidfVectorizer</label><div class=\"sk-toggleable__content\"><pre>TfidfVectorizer()</pre></div></div></div><div class=\"sk-item\"><div class=\"sk-estimator sk-toggleable\"><input class=\"sk-toggleable__control sk-hidden--visually\" id=\"sk-estimator-id-3\" type=\"checkbox\" ><label for=\"sk-estimator-id-3\" class=\"sk-toggleable__label sk-toggleable__label-arrow\">MultinomialNB</label><div class=\"sk-toggleable__content\"><pre>MultinomialNB()</pre></div></div></div></div></div></div></div>"
            ]
          },
          "metadata": {},
          "execution_count": 25
        }
      ]
    },
    {
      "cell_type": "code",
      "source": [
        "baseline_score = model_0.score(val_sentences,val_labels)\n",
        "print(baseline_score)"
      ],
      "metadata": {
        "colab": {
          "base_uri": "https://localhost:8080/"
        },
        "id": "-A60iL9yRLld",
        "outputId": "e9adddaf-bdb3-42cb-8b8a-f66f260a4e92"
      },
      "execution_count": null,
      "outputs": [
        {
          "output_type": "stream",
          "name": "stdout",
          "text": [
            "0.8280839895013123\n"
          ]
        }
      ]
    },
    {
      "cell_type": "code",
      "source": [
        "baseline_predict = model_0.predict(val_sentences)\n",
        "baseline_predict[:20]"
      ],
      "metadata": {
        "colab": {
          "base_uri": "https://localhost:8080/"
        },
        "id": "UeMjg-cliQDy",
        "outputId": "57c6c741-682e-4f1d-9be0-4c9f9133b9ff"
      },
      "execution_count": null,
      "outputs": [
        {
          "output_type": "execute_result",
          "data": {
            "text/plain": [
              "array([0, 1, 0, 0, 1, 0, 0, 1, 0, 0, 0, 0, 1, 1, 0, 0, 0, 0, 1, 1])"
            ]
          },
          "metadata": {},
          "execution_count": 27
        }
      ]
    },
    {
      "cell_type": "code",
      "source": [
        "# prompt: confusion matrix with sklearn\n",
        "from sklearn.metrics import confusion_matrix\n",
        "cm = confusion_matrix(y_true= val_labels,y_pred= baseline_predict)\n",
        "cm"
      ],
      "metadata": {
        "colab": {
          "base_uri": "https://localhost:8080/"
        },
        "id": "OeGVVGWMiYv7",
        "outputId": "72d1d97c-3171-45b6-a4fb-9e3088636579"
      },
      "execution_count": null,
      "outputs": [
        {
          "output_type": "execute_result",
          "data": {
            "text/plain": [
              "array([[401,  17],\n",
              "       [114, 230]])"
            ]
          },
          "metadata": {},
          "execution_count": 28
        }
      ]
    },
    {
      "cell_type": "code",
      "source": [
        "# prompt: plot ConfusionMatrixDisplay\n",
        "\n",
        "from sklearn.metrics import ConfusionMatrixDisplay\n",
        "ConfusionMatrixDisplay(cm).plot()"
      ],
      "metadata": {
        "colab": {
          "base_uri": "https://localhost:8080/",
          "height": 472
        },
        "id": "luJe121DkFLD",
        "outputId": "531375d7-19a2-42cb-b613-57d138e52d14"
      },
      "execution_count": null,
      "outputs": [
        {
          "output_type": "execute_result",
          "data": {
            "text/plain": [
              "<sklearn.metrics._plot.confusion_matrix.ConfusionMatrixDisplay at 0x7f6be14949d0>"
            ]
          },
          "metadata": {},
          "execution_count": 29
        },
        {
          "output_type": "display_data",
          "data": {
            "text/plain": [
              "<Figure size 640x480 with 2 Axes>"
            ],
            "image/png": "[encoded data removed]"
          },
          "metadata": {}
        }
      ]
    },
    {
      "cell_type": "code",
      "source": [
        "from sklearn.metrics import accuracy_score, precision_recall_fscore_support\n",
        "\n",
        "def calculate_results(y_true, y_pred):\n",
        "  \"\"\"\n",
        "  Calculates model accuracy, precision, recall and f1 score of a binary classification model.\n",
        "\n",
        "  Args:\n",
        "  -----\n",
        "  y_true = true labels in the form of a 1D array\n",
        "  y_pred = predicted labels in the form of a 1D array\n",
        "\n",
        "  Returns a dictionary of accuracy, precision, recall, f1-score.\n",
        "  \"\"\"\n",
        "  # Calculate model accuracy\n",
        "  model_accuracy = accuracy_score(y_true, y_pred) * 100\n",
        "  # Calculate model precision, recall and f1 score using \"weighted\" average\n",
        "  model_precision, model_recall, model_f1, _ = precision_recall_fscore_support(y_true, y_pred, average=\"weighted\")\n",
        "  model_results = {\"accuracy\": model_accuracy,\n",
        "                  \"precision\": model_precision,\n",
        "                  \"recall\": model_recall,\n",
        "                  \"f1\": model_f1}\n",
        "  return model_results"
      ],
      "metadata": {
        "id": "RXCGbSoIk5__"
      },
      "execution_count": null,
      "outputs": []
    },
    {
      "cell_type": "code",
      "source": [
        "baseline_results = calculate_results(y_true=val_labels,\n",
        "                                     y_pred=baseline_predict)\n",
        "baseline_results"
      ],
      "metadata": {
        "colab": {
          "base_uri": "https://localhost:8080/"
        },
        "id": "4GEYc4p2olaF",
        "outputId": "840158ab-84d3-4db4-9dc8-9e67b99aa5be"
      },
      "execution_count": null,
      "outputs": [
        {
          "output_type": "execute_result",
          "data": {
            "text/plain": [
              "{'accuracy': 82.80839895013123,\n",
              " 'precision': 0.8475009597111159,\n",
              " 'recall': 0.8280839895013123,\n",
              " 'f1': 0.8229125071805021}"
            ]
          },
          "metadata": {},
          "execution_count": 31
        }
      ]
    },
    {
      "cell_type": "markdown",
      "source": [
        "### 5.2 Model_1: A Simple Dense Model"
      ],
      "metadata": {
        "id": "g_I9uFLjon-P"
      }
    },
    {
      "cell_type": "code",
      "source": [
        "from tensorflow.keras import layers"
      ],
      "metadata": {
        "id": "luOJnC1hpE4G"
      },
      "execution_count": null,
      "outputs": []
    },
    {
      "cell_type": "code",
      "source": [
        "inputs = layers.Input(shape=(1,),dtype=tf.string)\n",
        "x = text_vectorizer(inputs)\n",
        "x = embedding(x)\n",
        "x = layers.GlobalAveragePooling1D()(x)\n",
        "x = layers.Dense(128,activation='relu')(x)\n",
        "outputs = layers.Dense(1,activation='sigmoid')(x)\n",
        "\n",
        "model_1 = tf.keras.Model(inputs,outputs,name= 'model_1_dense')"
      ],
      "metadata": {
        "id": "UFcpMt91rJBt"
      },
      "execution_count": null,
      "outputs": []
    },
    {
      "cell_type": "code",
      "source": [
        "model_1.summary()"
      ],
      "metadata": {
        "colab": {
          "base_uri": "https://localhost:8080/"
        },
        "id": "kaNTePuorVgw",
        "outputId": "6744a376-8cc2-48b3-f7a8-798dab7806c9"
      },
      "execution_count": null,
      "outputs": [
        {
          "output_type": "stream",
          "name": "stdout",
          "text": [
            "Model: \"model_1_dense\"\n",
            "_________________________________________________________________\n",
            " Layer (type)                Output Shape              Param #   \n",
            "=================================================================\n",
            " input_7 (InputLayer)        [(None, 1)]               0         \n",
            "                                                                 \n",
            " text_vectorization (TextVe  (None, 15)                0         \n",
            " ctorization)                                                    \n",
            "                                                                 \n",
            " embedding (Embedding)       (None, 15, 128)           1280000   \n",
            "                                                                 \n",
            " global_average_pooling1d_4  (None, 128)               0         \n",
            "  (GlobalAveragePooling1D)                                       \n",
            "                                                                 \n",
            " dense_3 (Dense)             (None, 128)               16512     \n",
            "                                                                 \n",
            " dense_4 (Dense)             (None, 1)                 129       \n",
            "                                                                 \n",
            "=================================================================\n",
            "Total params: 1296641 (4.95 MB)\n",
            "Trainable params: 1296641 (4.95 MB)\n",
            "Non-trainable params: 0 (0.00 Byte)\n",
            "_________________________________________________________________\n"
          ]
        }
      ]
    },
    {
      "cell_type": "code",
      "source": [
        "model_1.compile(loss = 'binary_crossentropy',\n",
        "                optimizer = tf.keras.optimizers.Adam(),\n",
        "                metrics = ['accuracy'])"
      ],
      "metadata": {
        "id": "3uYUkeQBuGan"
      },
      "execution_count": null,
      "outputs": []
    },
    {
      "cell_type": "code",
      "source": [
        "model_1_history = model_1.fit(x=train_sentences,\n",
        "                              y= train_labels,\n",
        "                              epochs=10,\n",
        "                              validation_data=(val_sentences,val_labels))"
      ],
      "metadata": {
        "colab": {
          "base_uri": "https://localhost:8080/"
        },
        "id": "s53nFqIowG7v",
        "outputId": "c08193c5-a575-4399-c6bf-8796a8df2178"
      },
      "execution_count": null,
      "outputs": [
        {
          "output_type": "stream",
          "name": "stdout",
          "text": [
            "Epoch 1/10\n",
            "215/215 [==============================] - 6s 27ms/step - loss: 0.0292 - accuracy: 0.9837 - val_loss: 2.0463 - val_accuracy: 0.7297\n",
            "Epoch 2/10\n",
            "215/215 [==============================] - 5s 24ms/step - loss: 0.0282 - accuracy: 0.9845 - val_loss: 2.2130 - val_accuracy: 0.7310\n",
            "Epoch 3/10\n",
            "215/215 [==============================] - 5s 22ms/step - loss: 0.0285 - accuracy: 0.9839 - val_loss: 2.2367 - val_accuracy: 0.7388\n",
            "Epoch 4/10\n",
            "215/215 [==============================] - 4s 21ms/step - loss: 0.0280 - accuracy: 0.9850 - val_loss: 2.2990 - val_accuracy: 0.7297\n",
            "Epoch 5/10\n",
            "215/215 [==============================] - 5s 25ms/step - loss: 0.0278 - accuracy: 0.9837 - val_loss: 2.3352 - val_accuracy: 0.7231\n",
            "Epoch 6/10\n",
            "215/215 [==============================] - 4s 21ms/step - loss: 0.0274 - accuracy: 0.9841 - val_loss: 2.5128 - val_accuracy: 0.7283\n",
            "Epoch 7/10\n",
            "215/215 [==============================] - 5s 22ms/step - loss: 0.0275 - accuracy: 0.9841 - val_loss: 2.3865 - val_accuracy: 0.7375\n",
            "Epoch 8/10\n",
            "215/215 [==============================] - 6s 29ms/step - loss: 0.0270 - accuracy: 0.9847 - val_loss: 2.5545 - val_accuracy: 0.7375\n",
            "Epoch 9/10\n",
            "215/215 [==============================] - 7s 33ms/step - loss: 0.0274 - accuracy: 0.9851 - val_loss: 2.6315 - val_accuracy: 0.7231\n",
            "Epoch 10/10\n",
            "215/215 [==============================] - 8s 40ms/step - loss: 0.0266 - accuracy: 0.9845 - val_loss: 2.7470 - val_accuracy: 0.7231\n"
          ]
        }
      ]
    },
    {
      "cell_type": "code",
      "source": [
        "model_1.evaluate(val_sentences,val_labels)"
      ],
      "metadata": {
        "colab": {
          "base_uri": "https://localhost:8080/"
        },
        "id": "RjRIDkgRxdy_",
        "outputId": "5e5d5295-9315-4dd3-ca04-c278f86dcb75"
      },
      "execution_count": null,
      "outputs": [
        {
          "output_type": "stream",
          "name": "stdout",
          "text": [
            "24/24 [==============================] - 0s 2ms/step - loss: 1.6388 - accuracy: 0.7375\n"
          ]
        },
        {
          "output_type": "execute_result",
          "data": {
            "text/plain": [
              "[1.638771653175354, 0.7375327944755554]"
            ]
          },
          "metadata": {},
          "execution_count": 37
        }
      ]
    },
    {
      "cell_type": "code",
      "source": [
        "model_1_pred = model_1.predict(val_sentences)\n",
        "model_1_pred[:5]"
      ],
      "metadata": {
        "colab": {
          "base_uri": "https://localhost:8080/"
        },
        "id": "hakFi_YmzJnh",
        "outputId": "327e4df2-b453-44b8-c847-297e3435348a"
      },
      "execution_count": null,
      "outputs": [
        {
          "output_type": "stream",
          "name": "stdout",
          "text": [
            "24/24 [==============================] - 0s 4ms/step\n"
          ]
        },
        {
          "output_type": "execute_result",
          "data": {
            "text/plain": [
              "array([[0.02244001],\n",
              "       [0.56780136],\n",
              "       [0.00887505],\n",
              "       [0.37760293],\n",
              "       [1.        ]], dtype=float32)"
            ]
          },
          "metadata": {},
          "execution_count": 38
        }
      ]
    },
    {
      "cell_type": "markdown",
      "source": [
        "### 5.3 Model_2: LSTM"
      ],
      "metadata": {
        "id": "Qvg5kVs81GiD"
      }
    },
    {
      "cell_type": "code",
      "source": [
        "inputs = tf.keras.Input(shape=(1,),dtype='string')\n",
        "x= text_vectorizer(inputs)\n",
        "x= embedding(x)\n",
        "x= layers.LSTM(64)(x)\n",
        "x= layers.Dense(128,activation='relu')(x)\n",
        "outputs = layers.Dense(1,activation='sigmoid')(x)\n",
        "model_2 = tf.keras.Model(inputs,outputs,name= 'model_2_LSTM')\n"
      ],
      "metadata": {
        "id": "aIUhWrZNyZDN"
      },
      "execution_count": null,
      "outputs": []
    },
    {
      "cell_type": "code",
      "source": [
        "model_2.compile(loss = 'binary_crossentropy',\n",
        "                optimizer = tf.keras.optimizers.Adam(),\n",
        "                metrics = ['accuracy'])"
      ],
      "metadata": {
        "id": "6pnpk4kpzPea"
      },
      "execution_count": null,
      "outputs": []
    },
    {
      "cell_type": "code",
      "source": [
        "from keras.callbacks import EarlyStopping\n",
        "early_stopping = EarlyStopping(monitor = 'val_accuracy',patience=5)"
      ],
      "metadata": {
        "id": "SJRWeJ-FOUvA"
      },
      "execution_count": null,
      "outputs": []
    },
    {
      "cell_type": "code",
      "source": [
        "model_2.fit(train_sentences,\n",
        "            train_labels,\n",
        "            epochs= 30,\n",
        "            validation_data = (val_sentences,val_labels),\n",
        "            callbacks = [early_stopping]\n",
        "              )"
      ],
      "metadata": {
        "colab": {
          "base_uri": "https://localhost:8080/"
        },
        "id": "CA_zZ0Vj3AQn",
        "outputId": "e2b09fb2-bcaa-4eee-e777-a9dbb66b3bba"
      },
      "execution_count": null,
      "outputs": [
        {
          "output_type": "stream",
          "name": "stdout",
          "text": [
            "Epoch 1/30\n",
            "215/215 [==============================] - 12s 43ms/step - loss: 0.0833 - accuracy: 0.9701 - val_loss: 1.2349 - val_accuracy: 0.7559\n",
            "Epoch 2/30\n",
            "215/215 [==============================] - 8s 38ms/step - loss: 0.0340 - accuracy: 0.9825 - val_loss: 1.6367 - val_accuracy: 0.7323\n",
            "Epoch 3/30\n",
            "215/215 [==============================] - 7s 34ms/step - loss: 0.0299 - accuracy: 0.9837 - val_loss: 1.8342 - val_accuracy: 0.7362\n",
            "Epoch 4/30\n",
            "215/215 [==============================] - 8s 39ms/step - loss: 0.0326 - accuracy: 0.9831 - val_loss: 2.0710 - val_accuracy: 0.7336\n",
            "Epoch 5/30\n",
            "215/215 [==============================] - 8s 35ms/step - loss: 0.0285 - accuracy: 0.9844 - val_loss: 1.9203 - val_accuracy: 0.7375\n",
            "Epoch 6/30\n",
            "215/215 [==============================] - 8s 38ms/step - loss: 0.0275 - accuracy: 0.9842 - val_loss: 2.5600 - val_accuracy: 0.7244\n"
          ]
        },
        {
          "output_type": "execute_result",
          "data": {
            "text/plain": [
              "<keras.src.callbacks.History at 0x7f6bcef82a10>"
            ]
          },
          "metadata": {},
          "execution_count": 61
        }
      ]
    },
    {
      "cell_type": "code",
      "source": [
        "model_2.summary()"
      ],
      "metadata": {
        "id": "QEiTH-6n3rH7",
        "colab": {
          "base_uri": "https://localhost:8080/"
        },
        "outputId": "2c878c38-7e51-40a9-805c-c4a523348817"
      },
      "execution_count": null,
      "outputs": [
        {
          "output_type": "stream",
          "name": "stdout",
          "text": [
            "Model: \"model_2_LSTM\"\n",
            "_________________________________________________________________\n",
            " Layer (type)                Output Shape              Param #   \n",
            "=================================================================\n",
            " input_8 (InputLayer)        [(None, 1)]               0         \n",
            "                                                                 \n",
            " text_vectorization (TextVe  (None, 15)                0         \n",
            " ctorization)                                                    \n",
            "                                                                 \n",
            " embedding (Embedding)       (None, 15, 128)           1280000   \n",
            "                                                                 \n",
            " lstm_2 (LSTM)               (None, 64)                49408     \n",
            "                                                                 \n",
            " dense_5 (Dense)             (None, 128)               8320      \n",
            "                                                                 \n",
            " dense_6 (Dense)             (None, 1)                 129       \n",
            "                                                                 \n",
            "=================================================================\n",
            "Total params: 1337857 (5.10 MB)\n",
            "Trainable params: 1337857 (5.10 MB)\n",
            "Non-trainable params: 0 (0.00 Byte)\n",
            "_________________________________________________________________\n"
          ]
        }
      ]
    },
    {
      "cell_type": "markdown",
      "source": [
        "### 5.4 Model_3: GRU"
      ],
      "metadata": {
        "id": "glorZYaot1jh"
      }
    },
    {
      "cell_type": "code",
      "source": [
        "inputs = layers.Input(shape=(1,),dtype=tf.string)\n",
        "x= text_vectorizer(inputs)\n",
        "x= embedding(x)\n",
        "x= layers.GRU(64)(x)\n",
        "outputs = layers.Dense(1,activation='sigmoid')(x)\n",
        "model_3 = keras.Model(inputs,outputs,name='model_3_GRU')"
      ],
      "metadata": {
        "id": "VCrnNAZpt63I"
      },
      "execution_count": null,
      "outputs": []
    },
    {
      "cell_type": "code",
      "source": [
        "model_3.summary()"
      ],
      "metadata": {
        "colab": {
          "base_uri": "https://localhost:8080/"
        },
        "id": "bW8ufNumvdK5",
        "outputId": "1966665c-1ef3-4c47-cdb9-8bdb70f36a5e"
      },
      "execution_count": null,
      "outputs": [
        {
          "output_type": "stream",
          "name": "stdout",
          "text": [
            "Model: \"model_3_GRU\"\n",
            "_________________________________________________________________\n",
            " Layer (type)                Output Shape              Param #   \n",
            "=================================================================\n",
            " input_9 (InputLayer)        [(None, 1)]               0         \n",
            "                                                                 \n",
            " text_vectorization (TextVe  (None, 15)                0         \n",
            " ctorization)                                                    \n",
            "                                                                 \n",
            " embedding (Embedding)       (None, 15, 128)           1280000   \n",
            "                                                                 \n",
            " gru (GRU)                   (None, 64)                37248     \n",
            "                                                                 \n",
            " dense_7 (Dense)             (None, 1)                 65        \n",
            "                                                                 \n",
            "=================================================================\n",
            "Total params: 1317313 (5.03 MB)\n",
            "Trainable params: 1317313 (5.03 MB)\n",
            "Non-trainable params: 0 (0.00 Byte)\n",
            "_________________________________________________________________\n"
          ]
        }
      ]
    },
    {
      "cell_type": "code",
      "source": [
        "model_3.compile(loss = 'binary_crossentropy',\n",
        "              optimizer = keras.optimizers.Adam(),\n",
        "              metrics = ['accuracy'])"
      ],
      "metadata": {
        "id": "auNROr4gz4DJ"
      },
      "execution_count": null,
      "outputs": []
    },
    {
      "cell_type": "code",
      "source": [
        "model_3_history= model_3.fit(train_sentences,\n",
        "                            train_labels,\n",
        "                            epochs=50,\n",
        "                            validation_data=(val_sentences,val_labels),\n",
        "                             callbacks = [early_stopping])"
      ],
      "metadata": {
        "colab": {
          "base_uri": "https://localhost:8080/"
        },
        "id": "Vw1ervPX1aKc",
        "outputId": "985dfc7a-70be-46b3-d5fc-4c98457e9e68"
      },
      "execution_count": null,
      "outputs": [
        {
          "output_type": "stream",
          "name": "stdout",
          "text": [
            "Epoch 1/50\n",
            "215/215 [==============================] - 8s 38ms/step - loss: 0.0460 - accuracy: 0.9825 - val_loss: 1.1318 - val_accuracy: 0.7323\n",
            "Epoch 2/50\n",
            "215/215 [==============================] - 7s 33ms/step - loss: 0.0364 - accuracy: 0.9823 - val_loss: 1.5413 - val_accuracy: 0.7270\n",
            "Epoch 3/50\n",
            "215/215 [==============================] - 8s 39ms/step - loss: 0.0366 - accuracy: 0.9828 - val_loss: 1.3554 - val_accuracy: 0.7362\n",
            "Epoch 4/50\n",
            "215/215 [==============================] - 8s 38ms/step - loss: 0.0306 - accuracy: 0.9845 - val_loss: 1.4440 - val_accuracy: 0.7349\n",
            "Epoch 5/50\n",
            "215/215 [==============================] - 7s 33ms/step - loss: 0.0294 - accuracy: 0.9834 - val_loss: 1.7521 - val_accuracy: 0.7283\n",
            "Epoch 6/50\n",
            "215/215 [==============================] - 8s 39ms/step - loss: 0.0318 - accuracy: 0.9845 - val_loss: 1.6761 - val_accuracy: 0.7362\n",
            "Epoch 7/50\n",
            "215/215 [==============================] - 7s 33ms/step - loss: 0.0328 - accuracy: 0.9835 - val_loss: 1.6649 - val_accuracy: 0.7270\n",
            "Epoch 8/50\n",
            "215/215 [==============================] - 8s 38ms/step - loss: 0.0290 - accuracy: 0.9839 - val_loss: 1.7374 - val_accuracy: 0.7415\n",
            "Epoch 9/50\n",
            "215/215 [==============================] - 8s 39ms/step - loss: 0.0285 - accuracy: 0.9837 - val_loss: 1.9374 - val_accuracy: 0.7231\n",
            "Epoch 10/50\n",
            "215/215 [==============================] - 11s 50ms/step - loss: 0.0281 - accuracy: 0.9841 - val_loss: 1.9406 - val_accuracy: 0.7231\n",
            "Epoch 11/50\n",
            "215/215 [==============================] - 10s 48ms/step - loss: 0.0276 - accuracy: 0.9850 - val_loss: 2.0917 - val_accuracy: 0.7231\n",
            "Epoch 12/50\n",
            "215/215 [==============================] - 8s 39ms/step - loss: 0.0304 - accuracy: 0.9835 - val_loss: 1.6860 - val_accuracy: 0.7336\n",
            "Epoch 13/50\n",
            "215/215 [==============================] - 8s 36ms/step - loss: 0.0302 - accuracy: 0.9844 - val_loss: 2.0069 - val_accuracy: 0.7270\n"
          ]
        }
      ]
    },
    {
      "cell_type": "code",
      "source": [
        "model_3.evaluate(val_sentences,val_labels)"
      ],
      "metadata": {
        "colab": {
          "base_uri": "https://localhost:8080/"
        },
        "id": "KLyYg1LB2Xe2",
        "outputId": "e8c9d807-c5dc-4856-92a1-5bbcc5987a63"
      },
      "execution_count": null,
      "outputs": [
        {
          "output_type": "stream",
          "name": "stdout",
          "text": [
            "24/24 [==============================] - 0s 12ms/step - loss: 2.0069 - accuracy: 0.7270\n"
          ]
        },
        {
          "output_type": "execute_result",
          "data": {
            "text/plain": [
              "[2.0068845748901367, 0.7270340919494629]"
            ]
          },
          "metadata": {},
          "execution_count": 70
        }
      ]
    },
    {
      "cell_type": "code",
      "source": [
        "model_3_pred_probs = model_3.predict(val_sentences)\n",
        "model_3_pred_probs[:5]"
      ],
      "metadata": {
        "colab": {
          "base_uri": "https://localhost:8080/"
        },
        "id": "blSmwUYp2cIr",
        "outputId": "9c05543d-b977-4391-f2b5-27c174224628"
      },
      "execution_count": null,
      "outputs": [
        {
          "output_type": "stream",
          "name": "stdout",
          "text": [
            "24/24 [==============================] - 0s 5ms/step\n"
          ]
        },
        {
          "output_type": "execute_result",
          "data": {
            "text/plain": [
              "array([[0.00413976],\n",
              "       [0.85310894],\n",
              "       [0.01546322],\n",
              "       [0.9991945 ],\n",
              "       [0.99999106]], dtype=float32)"
            ]
          },
          "metadata": {},
          "execution_count": 71
        }
      ]
    },
    {
      "cell_type": "code",
      "source": [
        "model_3_preds = tf.round(model_3_pred_probs)"
      ],
      "metadata": {
        "id": "k-YKr6Yd3P8b"
      },
      "execution_count": null,
      "outputs": []
    },
    {
      "cell_type": "code",
      "source": [
        "model_3_preds[:5]"
      ],
      "metadata": {
        "colab": {
          "base_uri": "https://localhost:8080/"
        },
        "id": "WDU2GDoX3gEY",
        "outputId": "f6e3d3be-f20b-443a-ef4a-a5b64d81d0f5"
      },
      "execution_count": null,
      "outputs": [
        {
          "output_type": "execute_result",
          "data": {
            "text/plain": [
              "<tf.Tensor: shape=(5, 1), dtype=float32, numpy=\n",
              "array([[0.],\n",
              "       [1.],\n",
              "       [0.],\n",
              "       [1.],\n",
              "       [1.]], dtype=float32)>"
            ]
          },
          "metadata": {},
          "execution_count": 73
        }
      ]
    },
    {
      "cell_type": "markdown",
      "source": [
        "### 5.5 Model_4: Bidirectional"
      ],
      "metadata": {
        "id": "1rWamlsD3lHZ"
      }
    },
    {
      "cell_type": "code",
      "source": [
        "inputs = layers.Input(shape=(1,),dtype=tf.string)\n",
        "x = text_vectorizer(inputs)\n",
        "x= embedding(x)\n",
        "x= layers.Bidirectional(layers.LSTM(64,return_sequences=True))(x)\n",
        "x= layers.Bidirectional(layers.LSTM(64,))(x)\n",
        "outputs = layers.Dense(1,activation='sigmoid')(x)\n",
        "model_4 = keras.Model(inputs,outputs,name='model_4_bidirectional')"
      ],
      "metadata": {
        "id": "NDMt18Ec97eT"
      },
      "execution_count": null,
      "outputs": []
    },
    {
      "cell_type": "code",
      "source": [
        "model_4.compile(loss = 'binary_crossentropy',\n",
        "              optimizer = keras.optimizers.Adam(),\n",
        "              metrics = ['accuracy'])"
      ],
      "metadata": {
        "id": "lHtN9jhd-Xhd"
      },
      "execution_count": null,
      "outputs": []
    },
    {
      "cell_type": "code",
      "source": [
        "from keras.src.backend import eager_learning_phase_scope\n",
        "histroy_4 = model_4.fit(train_sentences,\n",
        "                            train_labels,\n",
        "                            epochs=50,\n",
        "                            validation_data=(val_sentences,val_labels),\n",
        "                            callbacks=[early_stopping])"
      ],
      "metadata": {
        "id": "Ii2tycGnBdxe",
        "colab": {
          "base_uri": "https://localhost:8080/"
        },
        "outputId": "8bde8dd5-c2e1-4b63-916f-48e2f9b7ce8b"
      },
      "execution_count": null,
      "outputs": [
        {
          "output_type": "stream",
          "name": "stdout",
          "text": [
            "Epoch 1/50\n",
            "215/215 [==============================] - 39s 182ms/step - loss: 0.0354 - accuracy: 0.9838 - val_loss: 1.7341 - val_accuracy: 0.7441\n",
            "Epoch 2/50\n",
            "215/215 [==============================] - 15s 69ms/step - loss: 0.0324 - accuracy: 0.9829 - val_loss: 1.3653 - val_accuracy: 0.7349\n",
            "Epoch 3/50\n",
            "215/215 [==============================] - 15s 69ms/step - loss: 0.0310 - accuracy: 0.9845 - val_loss: 1.7056 - val_accuracy: 0.7231\n",
            "Epoch 4/50\n",
            "215/215 [==============================] - 17s 78ms/step - loss: 0.0306 - accuracy: 0.9837 - val_loss: 1.9871 - val_accuracy: 0.7428\n",
            "Epoch 5/50\n",
            "215/215 [==============================] - 16s 73ms/step - loss: 0.0290 - accuracy: 0.9850 - val_loss: 1.8584 - val_accuracy: 0.7375\n",
            "Epoch 6/50\n",
            "215/215 [==============================] - 16s 74ms/step - loss: 0.0292 - accuracy: 0.9848 - val_loss: 1.6963 - val_accuracy: 0.7388\n"
          ]
        }
      ]
    },
    {
      "cell_type": "markdown",
      "source": [
        "### 5.6 Moel_5: Conv1D"
      ],
      "metadata": {
        "id": "lWkhCjWLByha"
      }
    },
    {
      "cell_type": "code",
      "source": [
        "embedding_text = embedding(text_vectorizer(['this is a test sentence','here is another sentence']))\n",
        "\n",
        "conv_1d = layers.Conv1D(filters=32,kernel_size=5,padding='same',strides=1,activation='relu')\n",
        "# filters == output_dim , kernel_size == n-gram\n",
        "# paddin = 'valid' it means no padding\n",
        "conv_1_output = conv_1d(embedding_text)\n",
        "\n",
        "max_pool = layers.GlobalMaxPool1D()\n",
        "max_pool_output = max_pool(conv_1_output)\n",
        "\n",
        "embedding_text.shape , conv_1_output.shape , max_pool_output.shape"
      ],
      "metadata": {
        "colab": {
          "base_uri": "https://localhost:8080/"
        },
        "id": "15sKHissK3dB",
        "outputId": "e9d9867a-e960-4ebb-cca3-fc012480ff7e"
      },
      "execution_count": null,
      "outputs": [
        {
          "output_type": "execute_result",
          "data": {
            "text/plain": [
              "(TensorShape([2, 15, 128]), TensorShape([2, 15, 32]), TensorShape([2, 32]))"
            ]
          },
          "metadata": {},
          "execution_count": 78
        }
      ]
    },
    {
      "cell_type": "code",
      "source": [
        "embedding_text"
      ],
      "metadata": {
        "id": "dr4uxOuKR06T"
      },
      "execution_count": null,
      "outputs": []
    },
    {
      "cell_type": "code",
      "source": [
        "inputs = layers.Input(shape=(1,),dtype=tf.string)\n",
        "#__________________________________________________________#\n",
        "x = text_vectorizer(inputs)\n",
        "x = embedding(x)\n",
        "#__________________________________________________________#\n",
        "x = layers.Conv1D(filters=32,kernel_size=5,strides=1,padding='valid',activation='relu')(x)\n",
        "x = layers.GlobalMaxPool1D()(x)\n",
        "#__________________________________________________________#\n",
        "outputs = layers.Dense(1,activation = 'sigmoid')(x)\n",
        "model_5 = tf.keras.Model(inputs,outputs,name='model_5_Conv1D')\n",
        "\n",
        "\n",
        "# compile\n",
        "model_5.compile(loss = 'binary_crossentropy',\n",
        "                optimizer = tf.keras.optimizers.Adam(),\n",
        "                metrics = ['accuracy'])\n",
        "\n",
        "model_5.summary()"
      ],
      "metadata": {
        "colab": {
          "base_uri": "https://localhost:8080/"
        },
        "id": "q_pPPNPeXG4l",
        "outputId": "8a291a3f-c35c-47eb-ad35-1a84adb99534"
      },
      "execution_count": null,
      "outputs": [
        {
          "output_type": "stream",
          "name": "stdout",
          "text": [
            "Model: \"model_5_Conv1D\"\n",
            "_________________________________________________________________\n",
            " Layer (type)                Output Shape              Param #   \n",
            "=================================================================\n",
            " input_11 (InputLayer)       [(None, 1)]               0         \n",
            "                                                                 \n",
            " text_vectorization (TextVe  (None, 15)                0         \n",
            " ctorization)                                                    \n",
            "                                                                 \n",
            " embedding (Embedding)       (None, 15, 128)           1280000   \n",
            "                                                                 \n",
            " conv1d_1 (Conv1D)           (None, 11, 32)            20512     \n",
            "                                                                 \n",
            " global_max_pooling1d_1 (Gl  (None, 32)                0         \n",
            " obalMaxPooling1D)                                               \n",
            "                                                                 \n",
            " dense_9 (Dense)             (None, 1)                 33        \n",
            "                                                                 \n",
            "=================================================================\n",
            "Total params: 1300545 (4.96 MB)\n",
            "Trainable params: 1300545 (4.96 MB)\n",
            "Non-trainable params: 0 (0.00 Byte)\n",
            "_________________________________________________________________\n"
          ]
        }
      ]
    },
    {
      "cell_type": "code",
      "source": [
        "model_5.fit(train_sentences,\n",
        "            train_labels,\n",
        "            validation_data = (val_sentences,val_labels),\n",
        "            epochs=50,\n",
        "            callbacks = [early_stopping])"
      ],
      "metadata": {
        "colab": {
          "base_uri": "https://localhost:8080/"
        },
        "id": "iczwgzV7ZyjL",
        "outputId": "4f57493d-f928-4a49-ba39-a4fec6ce05be"
      },
      "execution_count": null,
      "outputs": [
        {
          "output_type": "stream",
          "name": "stdout",
          "text": [
            "Epoch 1/50\n",
            "215/215 [==============================] - 6s 22ms/step - loss: 0.0919 - accuracy: 0.9707 - val_loss: 1.1772 - val_accuracy: 0.7415\n",
            "Epoch 2/50\n",
            "215/215 [==============================] - 5s 24ms/step - loss: 0.0557 - accuracy: 0.9778 - val_loss: 1.3927 - val_accuracy: 0.7178\n",
            "Epoch 3/50\n",
            "215/215 [==============================] - 4s 20ms/step - loss: 0.0474 - accuracy: 0.9796 - val_loss: 1.4930 - val_accuracy: 0.7349\n",
            "Epoch 4/50\n",
            "215/215 [==============================] - 4s 21ms/step - loss: 0.0417 - accuracy: 0.9804 - val_loss: 1.6494 - val_accuracy: 0.7454\n",
            "Epoch 5/50\n",
            "215/215 [==============================] - 5s 23ms/step - loss: 0.0387 - accuracy: 0.9823 - val_loss: 1.6651 - val_accuracy: 0.7362\n",
            "Epoch 6/50\n",
            "215/215 [==============================] - 4s 21ms/step - loss: 0.0413 - accuracy: 0.9816 - val_loss: 1.7247 - val_accuracy: 0.7375\n",
            "Epoch 7/50\n",
            "215/215 [==============================] - 5s 23ms/step - loss: 0.0372 - accuracy: 0.9807 - val_loss: 1.7703 - val_accuracy: 0.7362\n",
            "Epoch 8/50\n",
            "215/215 [==============================] - 5s 22ms/step - loss: 0.0378 - accuracy: 0.9823 - val_loss: 1.7324 - val_accuracy: 0.7270\n",
            "Epoch 9/50\n",
            "215/215 [==============================] - 4s 19ms/step - loss: 0.0363 - accuracy: 0.9812 - val_loss: 1.7161 - val_accuracy: 0.7402\n"
          ]
        },
        {
          "output_type": "execute_result",
          "data": {
            "text/plain": [
              "<keras.src.callbacks.History at 0x7f6bceec8dc0>"
            ]
          },
          "metadata": {},
          "execution_count": 81
        }
      ]
    },
    {
      "cell_type": "markdown",
      "source": [
        "### 5.7 Model_6 : Pretrained Embeddings"
      ],
      "metadata": {
        "id": "ORNFex_1auL8"
      }
    },
    {
      "cell_type": "code",
      "source": [
        "import tensorflow_hub as hub\n",
        "embed = hub.load(\"https://tfhub.dev/google/universal-sentence-encoder/4\")\n",
        "embed_samples = embed(['what doesnt kill you makes you stronger'])\n",
        "embed_samples"
      ],
      "metadata": {
        "id": "yAPE_LVAW_dQ"
      },
      "execution_count": null,
      "outputs": []
    },
    {
      "cell_type": "code",
      "source": [
        "sentence_encoder_layer = hub.KerasLayer('https://tfhub.dev/google/universal-sentence-encoder/4',\n",
        "                                        input_shape= [],\n",
        "                                        dtype = tf.string,\n",
        "                                        trainable=False,\n",
        "                                        name = 'USE')"
      ],
      "metadata": {
        "id": "Zc7AzZqBZw_X"
      },
      "execution_count": null,
      "outputs": []
    },
    {
      "cell_type": "code",
      "source": [
        "model_6 = tf.keras.Sequential([\n",
        "    sentence_encoder_layer,\n",
        "    layers.Dense(512,activation= 'relu'),\n",
        "    layers.Dense(512,activation= 'relu'),\n",
        "    layers.Dense(1,activation = 'sigmoid')\n",
        "], name = 'Pretrained_Embeddings')"
      ],
      "metadata": {
        "id": "Vd1ZjOg0aRdI"
      },
      "execution_count": null,
      "outputs": []
    },
    {
      "cell_type": "code",
      "source": [
        "model_6.compile(loss = 'binary_crossentropy',\n",
        "                optimizer = tf.keras.optimizers.Adam(),\n",
        "                metrics = ['accuracy'])"
      ],
      "metadata": {
        "id": "lIt_LCFPbTIL"
      },
      "execution_count": null,
      "outputs": []
    },
    {
      "cell_type": "code",
      "source": [
        "model_6.summary()"
      ],
      "metadata": {
        "colab": {
          "base_uri": "https://localhost:8080/"
        },
        "id": "qU4nji6Fby9M",
        "outputId": "d9544360-dd60-427a-f762-0fb920705a6a"
      },
      "execution_count": null,
      "outputs": [
        {
          "output_type": "stream",
          "name": "stdout",
          "text": [
            "Model: \"Pretrained_Embeddings\"\n",
            "_________________________________________________________________\n",
            " Layer (type)                Output Shape              Param #   \n",
            "=================================================================\n",
            " USE (KerasLayer)            (None, 512)               256797824 \n",
            "                                                                 \n",
            " dense_14 (Dense)            (None, 512)               262656    \n",
            "                                                                 \n",
            " dense_15 (Dense)            (None, 512)               262656    \n",
            "                                                                 \n",
            " dense_16 (Dense)            (None, 1)                 513       \n",
            "                                                                 \n",
            "=================================================================\n",
            "Total params: 257323649 (981.61 MB)\n",
            "Trainable params: 525825 (2.01 MB)\n",
            "Non-trainable params: 256797824 (979.61 MB)\n",
            "_________________________________________________________________\n"
          ]
        }
      ]
    },
    {
      "cell_type": "code",
      "source": [
        "history_6 = model_6.fit(train_sentences,\n",
        "            train_labels,\n",
        "            epochs= 50,\n",
        "            validation_data=(val_sentences,val_labels),\n",
        "            callbacks = [early_stopping]\n",
        "            )"
      ],
      "metadata": {
        "colab": {
          "base_uri": "https://localhost:8080/"
        },
        "id": "LfIzeV4Xb1e8",
        "outputId": "6fe593fb-82ae-46c9-ad23-c0f0ca3acc47"
      },
      "execution_count": null,
      "outputs": [
        {
          "output_type": "stream",
          "name": "stdout",
          "text": [
            "Epoch 1/50\n",
            "215/215 [==============================] - 8s 38ms/step - loss: 0.0233 - accuracy: 0.9904 - val_loss: 1.4184 - val_accuracy: 0.8110\n",
            "Epoch 2/50\n",
            "215/215 [==============================] - 4s 19ms/step - loss: 0.0212 - accuracy: 0.9921 - val_loss: 1.4623 - val_accuracy: 0.7927\n",
            "Epoch 3/50\n",
            "215/215 [==============================] - 4s 20ms/step - loss: 0.0181 - accuracy: 0.9926 - val_loss: 1.5083 - val_accuracy: 0.8018\n",
            "Epoch 4/50\n",
            "215/215 [==============================] - 5s 22ms/step - loss: 0.0197 - accuracy: 0.9923 - val_loss: 1.4179 - val_accuracy: 0.7992\n",
            "Epoch 5/50\n",
            "215/215 [==============================] - 4s 18ms/step - loss: 0.0181 - accuracy: 0.9934 - val_loss: 1.4214 - val_accuracy: 0.7966\n",
            "Epoch 6/50\n",
            "215/215 [==============================] - 4s 20ms/step - loss: 0.0126 - accuracy: 0.9933 - val_loss: 1.5083 - val_accuracy: 0.7940\n"
          ]
        }
      ]
    },
    {
      "cell_type": "code",
      "source": [
        "model_6.evaluate(val_sentences,val_labels)"
      ],
      "metadata": {
        "colab": {
          "base_uri": "https://localhost:8080/"
        },
        "id": "yGmj0fnXcbCO",
        "outputId": "c6abcac8-12f2-4963-a731-e67ea1f0dfbf"
      },
      "execution_count": null,
      "outputs": [
        {
          "output_type": "stream",
          "name": "stdout",
          "text": [
            "24/24 [==============================] - 1s 28ms/step - loss: 1.5083 - accuracy: 0.7940\n"
          ]
        },
        {
          "output_type": "execute_result",
          "data": {
            "text/plain": [
              "[1.5082709789276123, 0.7939632534980774]"
            ]
          },
          "metadata": {},
          "execution_count": 125
        }
      ]
    },
    {
      "cell_type": "code",
      "source": [],
      "metadata": {
        "id": "uPFv-Cwgc1DU"
      },
      "execution_count": null,
      "outputs": []
    }
  ]
}